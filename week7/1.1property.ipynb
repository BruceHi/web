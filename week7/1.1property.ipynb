{
 "cells": [
  {
   "cell_type": "code",
   "execution_count": 2,
   "metadata": {
    "collapsed": true
   },
   "outputs": [],
   "source": [
    "class Human:\n",
    "    # 静态字段，类属性\n",
    "    live = True\n",
    "\n",
    "    def __init__(self, name):\n",
    "        self.name = name"
   ]
  },
  {
   "cell_type": "code",
   "execution_count": 3,
   "outputs": [],
   "source": [
    "man = Human('Adam')\n",
    "women = Human('eve')"
   ],
   "metadata": {
    "collapsed": false,
    "pycharm": {
     "name": "#%%\n"
    }
   }
  },
  {
   "cell_type": "code",
   "execution_count": 4,
   "outputs": [
    {
     "data": {
      "text/plain": "mappingproxy({'__module__': '__main__',\n              'live': True,\n              '__init__': <function __main__.Human.__init__(self, name)>,\n              '__dict__': <attribute '__dict__' of 'Human' objects>,\n              '__weakref__': <attribute '__weakref__' of 'Human' objects>,\n              '__doc__': None})"
     },
     "execution_count": 4,
     "metadata": {},
     "output_type": "execute_result"
    }
   ],
   "source": [
    "# 只能查看属性，以键值对出现\n",
    "\n",
    "# 类属性\n",
    "Human.__dict__"
   ],
   "metadata": {
    "collapsed": false,
    "pycharm": {
     "name": "#%%\n"
    }
   }
  },
  {
   "cell_type": "code",
   "execution_count": 5,
   "outputs": [
    {
     "data": {
      "text/plain": "{'name': 'Adam'}"
     },
     "execution_count": 5,
     "metadata": {},
     "output_type": "execute_result"
    }
   ],
   "source": [
    "# 实例化对象属性\n",
    "man.__dict__"
   ],
   "metadata": {
    "collapsed": false,
    "pycharm": {
     "name": "#%%\n"
    }
   }
  },
  {
   "cell_type": "code",
   "execution_count": 6,
   "outputs": [
    {
     "data": {
      "text/plain": "'Adam'"
     },
     "execution_count": 6,
     "metadata": {},
     "output_type": "execute_result"
    }
   ],
   "source": [
    "man.name"
   ],
   "metadata": {
    "collapsed": false,
    "pycharm": {
     "name": "#%%\n"
    }
   }
  },
  {
   "cell_type": "code",
   "execution_count": 8,
   "outputs": [],
   "source": [
    "man.live = False"
   ],
   "metadata": {
    "collapsed": false,
    "pycharm": {
     "name": "#%%\n"
    }
   }
  },
  {
   "cell_type": "code",
   "execution_count": 9,
   "outputs": [
    {
     "data": {
      "text/plain": "{'name': 'Adam', 'live': False}"
     },
     "execution_count": 9,
     "metadata": {},
     "output_type": "execute_result"
    }
   ],
   "source": [
    "man.__dict__"
   ],
   "metadata": {
    "collapsed": false,
    "pycharm": {
     "name": "#%%\n"
    }
   }
  },
  {
   "cell_type": "code",
   "execution_count": 10,
   "outputs": [
    {
     "data": {
      "text/plain": "False"
     },
     "execution_count": 10,
     "metadata": {},
     "output_type": "execute_result"
    }
   ],
   "source": [
    "man.live"
   ],
   "metadata": {
    "collapsed": false,
    "pycharm": {
     "name": "#%%\n"
    }
   }
  },
  {
   "cell_type": "code",
   "execution_count": 11,
   "outputs": [
    {
     "data": {
      "text/plain": "True"
     },
     "execution_count": 11,
     "metadata": {},
     "output_type": "execute_result"
    }
   ],
   "source": [
    "women.live"
   ],
   "metadata": {
    "collapsed": false,
    "pycharm": {
     "name": "#%%\n"
    }
   }
  },
  {
   "cell_type": "code",
   "execution_count": 12,
   "outputs": [
    {
     "data": {
      "text/plain": "True"
     },
     "execution_count": 12,
     "metadata": {},
     "output_type": "execute_result"
    }
   ],
   "source": [
    "Human.live"
   ],
   "metadata": {
    "collapsed": false,
    "pycharm": {
     "name": "#%%\n"
    }
   }
  },
  {
   "cell_type": "code",
   "execution_count": 13,
   "outputs": [],
   "source": [
    "Human.live = False"
   ],
   "metadata": {
    "collapsed": false,
    "pycharm": {
     "name": "#%%\n"
    }
   }
  },
  {
   "cell_type": "code",
   "execution_count": 14,
   "outputs": [
    {
     "data": {
      "text/plain": "False"
     },
     "execution_count": 14,
     "metadata": {},
     "output_type": "execute_result"
    }
   ],
   "source": [
    "women.live"
   ],
   "metadata": {
    "collapsed": false,
    "pycharm": {
     "name": "#%%\n"
    }
   }
  },
  {
   "cell_type": "code",
   "execution_count": 15,
   "outputs": [],
   "source": [
    "Human.live = True"
   ],
   "metadata": {
    "collapsed": false,
    "pycharm": {
     "name": "#%%\n"
    }
   }
  },
  {
   "cell_type": "code",
   "execution_count": 16,
   "outputs": [
    {
     "data": {
      "text/plain": "False"
     },
     "execution_count": 16,
     "metadata": {},
     "output_type": "execute_result"
    }
   ],
   "source": [
    "man.live"
   ],
   "metadata": {
    "collapsed": false,
    "pycharm": {
     "name": "#%%\n"
    }
   }
  },
  {
   "cell_type": "code",
   "execution_count": 17,
   "outputs": [
    {
     "data": {
      "text/plain": "['__class__',\n '__delattr__',\n '__dict__',\n '__dir__',\n '__doc__',\n '__eq__',\n '__format__',\n '__ge__',\n '__getattribute__',\n '__gt__',\n '__hash__',\n '__init__',\n '__init_subclass__',\n '__le__',\n '__lt__',\n '__module__',\n '__ne__',\n '__new__',\n '__reduce__',\n '__reduce_ex__',\n '__repr__',\n '__setattr__',\n '__sizeof__',\n '__str__',\n '__subclasshook__',\n '__weakref__',\n 'live',\n 'newattr']"
     },
     "execution_count": 17,
     "metadata": {},
     "output_type": "execute_result"
    }
   ],
   "source": [
    "Human.newattr = 1\n",
    "\n",
    "\n",
    "# 查看属性、方法，以列表方式出现\n",
    "# dir() 函数不带参数时，返回当前范围内的变量、方法和定义的类型列表；\n",
    "# 带参数时，返回参数的属性、方法列表。\n",
    "dir(Human)"
   ],
   "metadata": {
    "collapsed": false,
    "pycharm": {
     "name": "#%%\n"
    }
   }
  },
  {
   "cell_type": "code",
   "execution_count": 18,
   "outputs": [
    {
     "ename": "TypeError",
     "evalue": "can't set attributes of built-in/extension type 'list'",
     "output_type": "error",
     "traceback": [
      "\u001B[1;31m---------------------------------------------------------------------------\u001B[0m",
      "\u001B[1;31mTypeError\u001B[0m                                 Traceback (most recent call last)",
      "\u001B[1;32m<ipython-input-18-cd8ec5488cf9>\u001B[0m in \u001B[0;36m<module>\u001B[1;34m\u001B[0m\n\u001B[1;32m----> 1\u001B[1;33m \u001B[0msetattr\u001B[0m\u001B[1;33m(\u001B[0m\u001B[0mlist\u001B[0m\u001B[1;33m,\u001B[0m \u001B[1;34m'newattr'\u001B[0m\u001B[1;33m,\u001B[0m \u001B[1;34m'value'\u001B[0m\u001B[1;33m)\u001B[0m\u001B[1;33m\u001B[0m\u001B[1;33m\u001B[0m\u001B[0m\n\u001B[0m",
      "\u001B[1;31mTypeError\u001B[0m: can't set attributes of built-in/extension type 'list'"
     ]
    }
   ],
   "source": [
    "setattr(list, 'newattr', 'value')"
   ],
   "metadata": {
    "collapsed": false,
    "pycharm": {
     "name": "#%%\n"
    }
   }
  },
  {
   "cell_type": "code",
   "execution_count": 19,
   "outputs": [
    {
     "data": {
      "text/plain": "tuple"
     },
     "execution_count": 19,
     "metadata": {},
     "output_type": "execute_result"
    }
   ],
   "source": [
    "# 元组所在的类\n",
    "().__class__"
   ],
   "metadata": {
    "collapsed": false,
    "pycharm": {
     "name": "#%%\n"
    }
   }
  },
  {
   "cell_type": "code",
   "execution_count": 20,
   "outputs": [
    {
     "data": {
      "text/plain": "object"
     },
     "execution_count": 20,
     "metadata": {},
     "output_type": "execute_result"
    }
   ],
   "source": [
    "# 基类\n",
    "().__class__.__base__"
   ],
   "metadata": {
    "collapsed": false,
    "pycharm": {
     "name": "#%%\n"
    }
   }
  },
  {
   "cell_type": "code",
   "execution_count": 21,
   "outputs": [
    {
     "data": {
      "text/plain": "[type,\n weakref,\n weakcallableproxy,\n weakproxy,\n int,\n bytearray,\n bytes,\n list,\n NoneType,\n NotImplementedType,\n traceback,\n super,\n range,\n dict,\n dict_keys,\n dict_values,\n dict_items,\n odict_iterator,\n set,\n str,\n slice,\n staticmethod,\n complex,\n float,\n frozenset,\n property,\n managedbuffer,\n memoryview,\n tuple,\n enumerate,\n reversed,\n stderrprinter,\n code,\n frame,\n builtin_function_or_method,\n method,\n function,\n mappingproxy,\n generator,\n getset_descriptor,\n wrapper_descriptor,\n method-wrapper,\n ellipsis,\n member_descriptor,\n types.SimpleNamespace,\n PyCapsule,\n longrange_iterator,\n cell,\n instancemethod,\n classmethod_descriptor,\n method_descriptor,\n callable_iterator,\n iterator,\n coroutine,\n coroutine_wrapper,\n EncodingMap,\n fieldnameiterator,\n formatteriterator,\n filter,\n map,\n zip,\n moduledef,\n module,\n BaseException,\n _frozen_importlib._ModuleLock,\n _frozen_importlib._DummyModuleLock,\n _frozen_importlib._ModuleLockManager,\n _frozen_importlib._installed_safely,\n _frozen_importlib.ModuleSpec,\n _frozen_importlib.BuiltinImporter,\n classmethod,\n _frozen_importlib.FrozenImporter,\n _frozen_importlib._ImportLockContext,\n _thread._localdummy,\n _thread._local,\n _thread.lock,\n _thread.RLock,\n _frozen_importlib_external.WindowsRegistryFinder,\n _frozen_importlib_external._LoaderBasics,\n _frozen_importlib_external.FileLoader,\n _frozen_importlib_external._NamespacePath,\n _frozen_importlib_external._NamespaceLoader,\n _frozen_importlib_external.PathFinder,\n _frozen_importlib_external.FileFinder,\n _io._IOBase,\n _io._BytesIOBuffer,\n _io.IncrementalNewlineDecoder,\n nt.ScandirIterator,\n nt.DirEntry,\n PyHKEY,\n zipimport.zipimporter,\n codecs.Codec,\n codecs.IncrementalEncoder,\n codecs.IncrementalDecoder,\n codecs.StreamReaderWriter,\n codecs.StreamRecoder,\n _weakrefset._IterationGuard,\n _weakrefset.WeakSet,\n abc.ABC,\n MultibyteCodec,\n MultibyteIncrementalEncoder,\n MultibyteIncrementalDecoder,\n MultibyteStreamReader,\n MultibyteStreamWriter,\n collections.abc.Hashable,\n collections.abc.Awaitable,\n collections.abc.AsyncIterable,\n async_generator,\n collections.abc.Iterable,\n bytes_iterator,\n bytearray_iterator,\n dict_keyiterator,\n dict_valueiterator,\n dict_itemiterator,\n list_iterator,\n list_reverseiterator,\n range_iterator,\n set_iterator,\n str_iterator,\n tuple_iterator,\n collections.abc.Sized,\n collections.abc.Container,\n collections.abc.Callable,\n os._wrap_close,\n _sitebuiltins.Quitter,\n _sitebuiltins._Printer,\n _sitebuiltins._Helper,\n types.DynamicClassAttribute,\n functools.partial,\n functools._lru_cache_wrapper,\n operator.itemgetter,\n operator.attrgetter,\n operator.methodcaller,\n itertools.accumulate,\n itertools.combinations,\n itertools.combinations_with_replacement,\n itertools.cycle,\n itertools.dropwhile,\n itertools.takewhile,\n itertools.islice,\n itertools.starmap,\n itertools.chain,\n itertools.compress,\n itertools.filterfalse,\n itertools.count,\n itertools.zip_longest,\n itertools.permutations,\n itertools.product,\n itertools.repeat,\n itertools.groupby,\n itertools._grouper,\n itertools._tee,\n itertools._tee_dataobject,\n reprlib.Repr,\n collections.deque,\n _collections._deque_iterator,\n _collections._deque_reverse_iterator,\n collections._Link,\n weakref.finalize._Info,\n weakref.finalize,\n functools.partialmethod,\n types._GeneratorWrapper,\n warnings.WarningMessage,\n warnings.catch_warnings,\n importlib.abc.Finder,\n importlib.abc.Loader,\n contextlib.ContextDecorator,\n pkgutil.ImpImporter,\n pkgutil.ImpLoader,\n runpy._TempModule,\n runpy._ModifiedArgv0,\n __future__._Feature,\n enum.auto,\n <enum 'Enum'>,\n _sre.SRE_Pattern,\n _sre.SRE_Match,\n _sre.SRE_Scanner,\n sre_parse.Pattern,\n sre_parse.SubPattern,\n sre_parse.Tokenizer,\n re.Scanner,\n _json.Scanner,\n _json.Encoder,\n json.decoder.JSONDecoder,\n json.encoder.JSONEncoder,\n tokenize.Untokenizer,\n traceback.FrameSummary,\n traceback.TracebackException,\n threading._RLock,\n threading.Condition,\n threading.Semaphore,\n threading.Event,\n threading.Barrier,\n threading.Thread,\n _winapi.Overlapped,\n subprocess.STARTUPINFO,\n subprocess.CompletedProcess,\n subprocess.Popen,\n string.Template,\n string.Formatter,\n logging.LogRecord,\n logging.PercentStyle,\n logging.Formatter,\n logging.BufferingFormatter,\n logging.Filter,\n logging.Filterer,\n logging.PlaceHolder,\n logging.Manager,\n logging.LoggerAdapter,\n zlib.Compress,\n zlib.Decompress,\n _bz2.BZ2Compressor,\n _bz2.BZ2Decompressor,\n _lzma.LZMACompressor,\n _lzma.LZMADecompressor,\n _ast.AST,\n ast.NodeVisitor,\n dis.Bytecode,\n inspect.BlockFinder,\n inspect._void,\n inspect._empty,\n inspect.Parameter,\n inspect.BoundArguments,\n inspect.Signature,\n six._LazyDescr,\n six._SixMetaPathImporter,\n Struct,\n traitlets.utils.sentinel.Sentinel,\n traitlets.traitlets._SimpleTest,\n traitlets.traitlets.link,\n traitlets.traitlets.directional_link,\n traitlets.traitlets.BaseDescriptor,\n traitlets.traitlets._CallbackWrapper,\n traitlets.traitlets.HasDescriptors,\n traitlets.traitlets.ForwardDeclaredMixin,\n decorator.FunctionMaker,\n textwrap.TextWrapper,\n gettext.NullTranslations,\n argparse._AttributeHolder,\n argparse.HelpFormatter._Section,\n argparse.HelpFormatter,\n argparse.FileType,\n argparse._ActionsContainer,\n _hashlib.HASH,\n _blake2.blake2b,\n _blake2.blake2s,\n _sha3.sha3_224,\n _sha3.sha3_256,\n _sha3.sha3_384,\n _sha3.sha3_512,\n _sha3.shake_128,\n _sha3.shake_256,\n _random.Random,\n traitlets.config.loader.ConfigLoader,\n pprint._safe_key,\n pprint.PrettyPrinter,\n urllib.parse._ResultMixinStr,\n urllib.parse._ResultMixinBytes,\n urllib.parse._NetlocResultMixinBase,\n pydoc.Doc,\n pydoc.Helper,\n pydoc.ModuleScanner,\n bdb.Bdb,\n bdb.Breakpoint,\n IPython.utils.coloransi.TermColors,\n IPython.utils.coloransi.InputTermColors,\n IPython.utils.coloransi.NoColors,\n IPython.utils.coloransi.ColorScheme,\n pygments.util.Future,\n IPython.core.excolors.Deprec,\n cmd.Cmd,\n codeop.Compile,\n codeop.CommandCompiler,\n code.InteractiveInterpreter,\n IPython.core.debugger.Tracer,\n CArgObject,\n _ctypes.CThunkObject,\n _ctypes._CData,\n _ctypes.CField,\n _ctypes.DictRemover,\n ctypes.CDLL,\n ctypes.LibraryLoader,\n shlex.shlex,\n IPython.utils._process_win32.AvoidUNCPath,\n IPython.core.crashhandler.CrashHandler,\n tempfile._RandomNameSequence,\n tempfile._TemporaryFileCloser,\n tempfile._TemporaryFileWrapper,\n tempfile.SpooledTemporaryFile,\n tempfile.TemporaryDirectory,\n pathlib._Flavour,\n pathlib._Accessor,\n pathlib._Selector,\n pathlib._TerminatingSelector,\n pathlib.PurePath,\n IPython.core.magic_arguments.ArgDecorator,\n mimetypes.MimeTypes,\n IPython.core.display.DisplayHandle,\n IPython.core.display.DisplayObject,\n datetime.date,\n datetime.timedelta,\n datetime.time,\n datetime.tzinfo,\n IPython.lib.pretty._PrettyPrinterBase,\n IPython.lib.pretty.Printable,\n IPython.lib.pretty.GroupQueue,\n pygments.filter.Filter,\n pygments.lexer.Lexer,\n pygments.lexer._inherit,\n pygments.lexer._PseudoMatch,\n pygments.lexer._This,\n pygments.lexer.default,\n pygments.lexer.LexerContext,\n pygments.formatter.Formatter,\n typing._TypingBase,\n typing.Generic,\n typing._TypingEmpty,\n typing._TypingEllipsis,\n typing.Protocol,\n typing.Generic[+T_co],\n typing.Generic[+T_co, -T_contra, +V_co],\n typing.Protocol[+T_co],\n typing.Generic[~KT, +VT_co],\n typing.Generic[+T_co, -T_contra],\n typing.Generic[+CT_co],\n typing.NamedTuple,\n typing.Generic[~AnyStr],\n typing.io,\n typing.re,\n IPython.core.inputtransformer2.PromptStripper,\n IPython.core.inputtransformer2.TokenTransformBase,\n IPython.core.inputtransformer2.TransformerManager,\n IPython.core.magic.Bunch,\n IPython.core.magic.MagicAlias,\n selectors.BaseSelector,\n _overlapped.Overlapped,\n concurrent.futures._base._Waiter,\n concurrent.futures._base._AcquireFutures,\n concurrent.futures._base.Future,\n concurrent.futures._base.Executor,\n queue.Queue,\n multiprocessing.process.BaseProcess,\n pickle._Framer,\n pickle._Unframer,\n pickle._Pickler,\n pickle._Unpickler,\n _pickle.Unpickler,\n _pickle.Pickler,\n _pickle.Pdata,\n _pickle.PicklerMemoProxy,\n _pickle.UnpicklerMemoProxy,\n _socket.socket,\n multiprocessing.reduction.DupHandle,\n multiprocessing.reduction._C,\n multiprocessing.reduction.AbstractReducer,\n multiprocessing.context.BaseContext,\n _multiprocessing.SemLock,\n multiprocessing.util.Finalize,\n multiprocessing.util.ForkAwareThreadLock,\n multiprocessing.connection._ConnectionBase,\n multiprocessing.connection.Listener,\n multiprocessing.connection.SocketListener,\n multiprocessing.connection.PipeListener,\n multiprocessing.connection.ConnectionWrapper,\n concurrent.futures.process._ExceptionWithTraceback,\n concurrent.futures.process._WorkItem,\n concurrent.futures.process._ResultItem,\n concurrent.futures.process._CallItem,\n concurrent.futures.thread._WorkItem,\n asyncio.events.Handle,\n asyncio.events.AbstractServer,\n asyncio.events.AbstractEventLoop,\n asyncio.events.AbstractEventLoopPolicy,\n asyncio.coroutines.CoroWrapper,\n asyncio.futures._TracebackLogger,\n asyncio.futures.Future,\n _asyncio.Future,\n _asyncio.FutureIter,\n TaskStepMethWrapper,\n TaskWakeupMethWrapper,\n asyncio.locks._ContextManager,\n asyncio.locks._ContextManagerMixin,\n asyncio.locks.Event,\n asyncio.protocols.BaseProtocol,\n asyncio.queues.Queue,\n asyncio.streams.StreamWriter,\n asyncio.streams.StreamReader,\n asyncio.subprocess.Process,\n asyncio.transports.BaseTransport,\n ipaddress._IPAddressBase,\n ipaddress._BaseV4,\n ipaddress._IPv4Constants,\n ipaddress._BaseV6,\n ipaddress._IPv6Constants,\n _ssl._SSLContext,\n _ssl._SSLSocket,\n _ssl.MemoryBIO,\n _ssl.Session,\n ssl.SSLObject,\n asyncio.sslproto._SSLPipe,\n asyncio.windows_utils.PipeHandle,\n asyncio.windows_events.PipeServer,\n asyncio.windows_events.IocpProactor,\n pickleshare.PickleShareLink,\n IPython.core.autocall.IPyAutocall,\n IPython.core.macro.Macro,\n IPython.core.splitinput.LineInfo,\n IPython.core.alias.Alias,\n IPython.core.builtin_trap.__BuiltinUndefined,\n IPython.core.builtin_trap.__HideBuiltin,\n IPython.core.events.EventManager,\n IPython.core.displayhook.CapturingDisplayHook,\n IPython.utils.sentinel.Sentinel,\n IPython.core.formatters.FormatterABC,\n sqlite3.Row,\n sqlite3.Cursor,\n sqlite3.Connection,\n sqlite3Node,\n sqlite3.Cache,\n sqlite3.Statement,\n sqlite3.PrepareProtocol,\n IPython.core.history.DummyDB,\n IPython.core.logger.Logger,\n IPython.lib.display.IFrame,\n IPython.lib.display.FileLink,\n IPython.utils.capture.RichOutput,\n IPython.utils.capture.CapturedIO,\n IPython.utils.capture.capture_output,\n IPython.utils.io.IOStream,\n IPython.utils.io.Tee,\n IPython.core.hooks.CommandChainDispatcher,\n IPython.utils.strdispatch.StrDispatch,\n IPython.utils.syspathcontext.appended_to_syspath,\n IPython.utils.syspathcontext.prepended_to_syspath,\n IPython.utils.tempdir.NamedFileInTemporaryDirectory,\n IPython.utils.contexts.preserve_keys,\n IPython.utils.contexts.NoOpContext,\n IPython.core.async_helpers._AsyncIORunner,\n IPython.core.interactiveshell.DummyMod,\n IPython.core.interactiveshell.ExecutionInfo,\n IPython.core.interactiveshell.ExecutionResult,\n IPython.core.interactiveshell.InteractiveShellABC,\n prompt_toolkit.eventloop.base.EventLoop,\n prompt_toolkit.cache.SimpleCache,\n prompt_toolkit.utils.Event,\n prompt_toolkit.utils.DummyContext,\n prompt_toolkit.eventloop.context.context,\n prompt_toolkit.eventloop.context.TaskLocal,\n prompt_toolkit.eventloop.future.Future,\n prompt_toolkit.eventloop.coroutine._FutureRef,\n prompt_toolkit.eventloop.async_generator.AsyncGeneratorItem,\n prompt_toolkit.eventloop.event.Event,\n prompt_toolkit.filters.base.Filter,\n prompt_toolkit.enums.EditingMode,\n prompt_toolkit.auto_suggest.Suggestion,\n prompt_toolkit.auto_suggest.AutoSuggest,\n prompt_toolkit.selection.SelectionType,\n prompt_toolkit.selection.PasteMode,\n prompt_toolkit.selection.SelectionState,\n prompt_toolkit.clipboard.base.ClipboardData,\n prompt_toolkit.clipboard.base.Clipboard,\n prompt_toolkit.completion.base.Completion,\n prompt_toolkit.completion.base.CompleteEvent,\n prompt_toolkit.completion.base.Completer,\n prompt_toolkit.document._DocumentCache,\n prompt_toolkit.document.Document,\n prompt_toolkit.history.History,\n prompt_toolkit.keys.Keys,\n prompt_toolkit.key_binding.key_bindings._Binding,\n prompt_toolkit.key_binding.key_bindings.KeyBindingsBase,\n prompt_toolkit.key_binding.vi_state.InputMode,\n prompt_toolkit.key_binding.vi_state.CharacterFind,\n prompt_toolkit.key_binding.vi_state.ViState,\n prompt_toolkit.search.SearchDirection,\n prompt_toolkit.search.SearchState,\n prompt_toolkit.validation.Validator,\n prompt_toolkit.buffer.ValidationState,\n prompt_toolkit.buffer.CompletionState,\n prompt_toolkit.buffer.YankNthArgState,\n prompt_toolkit.buffer.Buffer,\n prompt_toolkit.input.base.Input,\n prompt_toolkit.key_binding.key_processor.KeyPress,\n prompt_toolkit.key_binding.key_processor.KeyProcessor,\n prompt_toolkit.key_binding.key_processor.KeyPressEvent,\n prompt_toolkit.input.vt100_parser._Flush,\n prompt_toolkit.input.vt100_parser.Vt100Parser,\n prompt_toolkit.key_binding.bindings.vi.TextObjectType,\n prompt_toolkit.key_binding.bindings.vi.TextObject,\n prompt_toolkit.formatted_text.base.Template,\n xml.dom.Node,\n xml.dom.UserDataHandler,\n xml.dom.NodeFilter.NodeFilter,\n xml.dom.xmlbuilder.Options,\n xml.dom.xmlbuilder.DOMBuilder,\n xml.dom.xmlbuilder.DOMEntityResolver,\n xml.dom.xmlbuilder.DOMInputSource,\n xml.dom.xmlbuilder.DOMBuilderFilter,\n xml.dom.xmlbuilder._AsyncDeprecatedProperty,\n xml.dom.xmlbuilder.DocumentLS,\n xml.dom.xmlbuilder.DOMImplementationLS,\n xml.dom.minidom.NamedNodeMap,\n xml.dom.minidom.TypeInfo,\n xml.dom.minidom.Childless,\n xml.dom.minidom.ReadOnlySequentialNamedNodeMap,\n xml.dom.minidom.Identified,\n xml.dom.minidom.ElementInfo,\n prompt_toolkit.formatted_text.html.HTML,\n prompt_toolkit.layout.screen.Char,\n prompt_toolkit.layout.screen.Screen,\n prompt_toolkit.layout.screen.WritePosition,\n prompt_toolkit.output.base.Output,\n prompt_toolkit.output.color_depth.ColorDepth,\n prompt_toolkit.styles.base.BaseStyle,\n prompt_toolkit.styles.style.Priority,\n prompt_toolkit.styles.style_transformation.StyleTransformation,\n array.array,\n prompt_toolkit.formatted_text.ansi.ANSI,\n prompt_toolkit.formatted_text.pygments.PygmentsTokens,\n prompt_toolkit.lexers.base.Lexer,\n prompt_toolkit.lexers.pygments.SyntaxSync,\n prompt_toolkit.mouse_events.MouseEventType,\n prompt_toolkit.mouse_events.MouseEvent,\n prompt_toolkit.layout.processors.Processor,\n prompt_toolkit.layout.processors.TransformationInput,\n prompt_toolkit.layout.processors.Transformation,\n prompt_toolkit.layout.controls.UIControl,\n prompt_toolkit.layout.controls.UIContent,\n prompt_toolkit.layout.dimension.Dimension,\n prompt_toolkit.layout.margins.Margin,\n prompt_toolkit.layout.containers.Container,\n prompt_toolkit.layout.containers.VerticalAlign,\n prompt_toolkit.layout.containers.HorizontalAlign,\n prompt_toolkit.layout.containers.Float,\n prompt_toolkit.layout.containers.WindowRenderInfo,\n prompt_toolkit.layout.containers.ScrollOffsets,\n prompt_toolkit.layout.containers.ColorColumn,\n prompt_toolkit.layout.containers.WindowAlign,\n prompt_toolkit.layout.layout.Layout,\n prompt_toolkit.layout.mouse_handlers.MouseHandlers,\n prompt_toolkit.renderer.CPR_Support,\n prompt_toolkit.renderer.Renderer,\n prompt_toolkit.key_binding.emacs_state.EmacsState,\n prompt_toolkit.application.application.Application,\n prompt_toolkit.widgets.toolbars.SystemToolbar,\n prompt_toolkit.widgets.toolbars.ArgToolbar,\n prompt_toolkit.widgets.toolbars.SearchToolbar,\n prompt_toolkit.widgets.toolbars.CompletionsToolbar,\n prompt_toolkit.widgets.toolbars.ValidationToolbar,\n prompt_toolkit.widgets.base.Border,\n prompt_toolkit.widgets.base.TextArea,\n prompt_toolkit.widgets.base.Label,\n prompt_toolkit.widgets.base.Button,\n prompt_toolkit.widgets.base.Frame,\n prompt_toolkit.widgets.base.Shadow,\n prompt_toolkit.widgets.base.Box,\n prompt_toolkit.widgets.base.Checkbox,\n prompt_toolkit.widgets.base.RadioList,\n prompt_toolkit.widgets.base.VerticalLine,\n prompt_toolkit.widgets.base.HorizontalLine,\n prompt_toolkit.widgets.base.ProgressBar,\n prompt_toolkit.widgets.dialogs.Dialog,\n prompt_toolkit.widgets.menus.MenuContainer,\n prompt_toolkit.widgets.menus.MenuItem,\n prompt_toolkit.shortcuts.prompt.CompleteStyle,\n prompt_toolkit.shortcuts.prompt.PromptSession,\n prompt_toolkit.shortcuts.progress_bar.formatters.Formatter,\n prompt_toolkit.shortcuts.progress_bar.base.ProgressBar,\n prompt_toolkit.shortcuts.progress_bar.base.ProgressBarCounter,\n prompt_toolkit.patch_stdout.StdoutProxy,\n pygments.style.Style,\n parso.tree.NodeOrLeaf,\n parso.python.token.TokenType,\n parso.python.token.TokenTypes,\n parso.python.tokenize.FStringNode,\n parso.pgen2.grammar_parser.GrammarParser,\n parso.pgen2.grammar_parser.NFAArc,\n parso.pgen2.grammar_parser.NFAState,\n parso.pgen2.generator.Grammar,\n parso.pgen2.generator.DFAPlan,\n parso.pgen2.generator.DFAState,\n parso.pgen2.generator.ReservedString,\n parso.parser.StackNode,\n parso.parser.BaseParser,\n difflib.SequenceMatcher,\n difflib.Differ,\n difflib.HtmlDiff,\n parso.python.prefix.PrefixPart,\n parso.python.tree.DocstringMixin,\n parso.python.tree.PythonMixin,\n parso.python.tree._StringComparisonMixin,\n parso.python.diff.DiffParser,\n parso.python.diff._NodesTreeNode,\n parso.python.diff._NodesTree,\n parso.cache._NodeCacheItem,\n parso.normalizer.HackClass,\n parso.normalizer.NormalizerConfig,\n parso.normalizer.Issue,\n parso.normalizer.Rule,\n parso.python.errors._Context,\n parso.python.pep8.IndentationTypes,\n parso.python.pep8.IndentationNode,\n parso.file_io.FileIO,\n parso.grammar.Grammar,\n jedi.file_io.AbstractFolderIO,\n jedi.file_io.FileIOFolderMixin,\n jedi._compatibility.DummyFile,\n jedi._compatibility.ImplicitNSInfo,\n jedi.debug.Fore,\n jedi.evaluate.utils.PushBackIterator,\n jedi.common.context.BaseContext,\n jedi.common.context.BaseContextSet,\n jedi.evaluate.base_context.HelperContextMixin,\n jedi.evaluate.base_context.ContextualizedNode,\n jedi.evaluate.recursion.RecursionDetector,\n jedi.evaluate.recursion.ExecutionRecursionDetector,\n jedi.evaluate.flow_analysis.Status,\n jedi.evaluate.names.AbstractNameDefinition,\n jedi.evaluate.names.ContextNameMixin,\n jedi.evaluate.names._ParamMixin,\n jedi.evaluate.names.NameWrapper,\n jedi.evaluate.filters.AbstractFilter,\n jedi.evaluate.filters.FilterWrapper,\n jedi.evaluate.filters.MergedFilter,\n jedi.evaluate.filters._AttributeOverwriteMixin,\n jedi.evaluate.lazy_context.AbstractLazyContext,\n jedi.evaluate.compiled.access.AccessPath,\n jedi.evaluate.compiled.access.DirectObjectAccess,\n jedi.evaluate.signature._SignatureMixin,\n jedi.evaluate.compiled.context.CheckAttribute,\n jedi.evaluate.analysis.Error,\n jedi.evaluate.context.module.SubModuleDictMixin,\n jedi.evaluate.context.iterable.IterableMixin,\n jedi.evaluate.context.iterable.ComprehensionMixin,\n jedi.evaluate.context.iterable._DictMixin,\n jedi.evaluate.context.iterable.Slice,\n jedi.evaluate.param.ExecutedParam,\n jedi.evaluate.arguments._AbstractArgumentsMixin,\n jedi.evaluate.context.function.FunctionMixin,\n jedi.plugins._PluginManager,\n jedi.evaluate.context.klass.ClassMixin,\n jedi.evaluate.context.instance.InstanceExecutedParam,\n jedi.evaluate.context.instance.LazyInstanceClassName,\n jedi.evaluate.gradual.typing._TypingClassMixin,\n jedi.evaluate.gradual.typing.TypeVarFilter,\n jedi.evaluate.gradual.typing.LazyAnnotatedBaseClass,\n jedi.evaluate.imports.ModuleCache,\n jedi.evaluate.imports.Importer,\n jedi.evaluate.finder.NameFinder,\n jedi.evaluate.Evaluator,\n jedi.api.keywords.Keyword,\n jedi.api.classes.BaseDefinition,\n jedi.api.classes._Help,\n jedi.api.interpreter.NamespaceObject,\n jedi.api.helpers.CallDetails,\n jedi.api.completion.Completion,\n filecmp.dircmp,\n jedi.evaluate.compiled.subprocess._EvaluatorProcess,\n jedi.evaluate.compiled.subprocess.CompiledSubprocess,\n jedi.evaluate.compiled.subprocess.Listener,\n jedi.evaluate.compiled.subprocess.AccessHandle,\n jedi.api.environment._BaseEnvironment,\n jedi.api.environment._SameEnvironmentMixin,\n jedi.api.project.Project,\n jedi.api.Script,\n jedi.plugins.stdlib.PartialObject,\n IPython.core.completer._FakeJediCompletion,\n IPython.core.completer.Completion,\n IPython.core.completer.CompletionSplitter,\n IPython.terminal.prompts.Prompts,\n IPython.core.magics.basic.MagicsDisplay,\n email.charset.Charset,\n email.header.Header,\n email.header._ValueFormatter,\n calendar._localized_month,\n calendar._localized_day,\n calendar.Calendar,\n calendar.different_locale,\n email._parseaddr.AddrlistClass,\n email._policybase._PolicyBase,\n email.feedparser.BufferedSubFile,\n email.feedparser.FeedParser,\n email.parser.Parser,\n email.parser.BytesParser,\n email.message.Message,\n http.client.HTTPConnection,\n urllib.request.Request,\n urllib.request.OpenerDirector,\n urllib.request.BaseHandler,\n urllib.request.HTTPPasswordMgr,\n urllib.request.AbstractBasicAuthHandler,\n urllib.request.AbstractDigestAuthHandler,\n urllib.request.URLopener,\n urllib.request.ftpwrapper,\n timeit.Timer,\n _lsprof.Profiler,\n optparse.HelpFormatter,\n optparse.Option,\n optparse.Values,\n optparse.OptionContainer,\n profile._Utils,\n profile.Profile.fake_code,\n profile.Profile.fake_frame,\n profile.Profile,\n pstats.Stats,\n pstats.TupleComp,\n IPython.core.magics.execution.TimeitResult,\n IPython.lib.backgroundjobs.BackgroundJobManager,\n cython_function_or_method,\n zmq.backend.cython.message.MessageTracker,\n zmq.backend.cython.message.Frame,\n zmq.backend.cython.context.Context,\n zmq.backend.cython.socket.Socket,\n zmq.sugar.attrsettr.AttributeSetter,\n zmq.sugar.poll.Poller,\n zmq.sugar.tracker.MessageTracker,\n zmq.sugar.stopwatch.Stopwatch,\n abc._NewBase,\n abc._NewBase,\n abc._NewBase,\n jupyter_client.blocking.channels.ZMQSocketChannel,\n uuid.UUID,\n numbers.Number,\n logging.handlers.QueueListener,\n tornado.util.GzipDecompressor,\n tornado.util.Configurable,\n tornado.util.ArgReplacer,\n colorama.ansi.AnsiCodes,\n colorama.ansi.AnsiCursor,\n colorama.winterm.WinColor,\n colorama.winterm.WinStyle,\n colorama.winterm.WinTerm,\n colorama.ansitowin32.StreamWrapper,\n colorama.ansitowin32.AnsiToWin32,\n tornado.ioloop._Selectable,\n tornado.ioloop._Timeout,\n tornado.ioloop.PeriodicCallback,\n tornado.gen.WaitIterator,\n tornado.gen._NullFuture,\n tornado.gen.Runner,\n zmq.eventloop.zmqstream.ZMQStream,\n imp.NullImporter,\n imp._HackedGetData,\n hmac.HMAC,\n decimal.Decimal,\n decimal.Context,\n decimal.SignalDictMixin,\n decimal.ContextManager,\n dateutil._common.weekday,\n dateutil.relativedelta.relativedelta,\n dateutil.tz.win.tzres,\n dateutil.tz.tz._ttinfo,\n dateutil.tz.tz._tzfile,\n dateutil.tz.tz._tzicalvtzcomp,\n dateutil.tz.tz.tzical,\n dateutil.tz.tz.__get_gettz.<locals>.GettzFunc,\n dateutil.tz.tz._nullcontext,\n dateutil.parser._parser._timelex,\n dateutil.parser._parser._resultbase,\n dateutil.parser._parser.parserinfo,\n dateutil.parser._parser.parser,\n dateutil.parser._parser._tzparser,\n dateutil.parser.isoparser.isoparser,\n _strptime.LocaleTime,\n jupyter_client.adapter.Adapter,\n jupyter_client.session.Message,\n ipykernel.iostream.IOPubThread,\n ipykernel.iostream.BackgroundSocket,\n tornado.locks._TimeoutGarbageCollector,\n tornado.locks.Event,\n tornado.locks._ReleasingContextManager,\n tornado.locks.Lock,\n typing.Generic[~_T],\n ipykernel.displayhook.ZMQDisplayHook,\n distutils.version.Version,\n ipykernel.pickleutil.CannedObject,\n _pydevd_bundle.pydevd_constants.DebugInfoHolder,\n _pydevd_bundle.pydevd_vm_type.PydevdVmType,\n _pydevd_bundle.pydevd_constants.ValuesPolicy,\n pyexpat.xmlparser,\n gzip._PaddedFile,\n xmlrpc.client.DateTime,\n xmlrpc.client.Binary,\n xmlrpc.client.ExpatParser,\n xmlrpc.client.Marshaller,\n xmlrpc.client.Unmarshaller,\n xmlrpc.client._MultiCallMethod,\n xmlrpc.client.MultiCallIterator,\n xmlrpc.client.MultiCall,\n xmlrpc.client._Method,\n xmlrpc.client.Transport,\n xmlrpc.client.ServerProxy,\n socketserver.BaseServer,\n socketserver.ThreadingMixIn,\n socketserver.BaseRequestHandler,\n xmlrpc.server.SimpleXMLRPCDispatcher,\n xmlrpc.server.XMLRPCDocGenerator,\n _pydevd_bundle.pydevd_constants.Null,\n _pydevd_bundle.pydevd_constants.GlobalDebuggerHolder,\n zipfile.ZipInfo,\n zipfile._ZipDecrypter,\n zipfile.LZMACompressor,\n zipfile.LZMADecompressor,\n zipfile._SharedFile,\n zipfile._Tellable,\n zipfile.ZipFile,\n plistlib.Data,\n plistlib._PlistParser,\n plistlib._DumbXMLWriter,\n plistlib._BinaryPlistParser,\n plistlib._BinaryPlistWriter,\n pkg_resources.extern.VendorImporter,\n pkg_resources._vendor.six._LazyDescr,\n pkg_resources._vendor.six._SixMetaPathImporter,\n pkg_resources._vendor.appdirs.AppDirs,\n PyHANDLE,\n PyOVERLAPPED,\n PyDEVMODEA,\n PyDEVMODEW,\n PyWAVEFORMATEX,\n PyIID,\n PySECURITY_DESCRIPTOR,\n PySECURITY_ATTRIBUTES,\n PySID,\n PyACL,\n PyDISPLAY_DEVICE,\n interface-type,\n PyOleEmpty,\n PyOleMissing,\n ArgNotFound,\n PyFUNCDESC,\n PySTGMEDIUM,\n PyTYPEATTR,\n PyVARDESC,\n com_record,\n pkg_resources.extern.packaging._structures.InfinityType,\n pkg_resources.extern.packaging._structures.NegativeInfinityType,\n pkg_resources.extern.packaging.version._BaseVersion,\n pkg_resources.extern.packaging.specifiers.BaseSpecifier,\n pkg_resources._vendor.pyparsing._Constants,\n pkg_resources._vendor.pyparsing._ParseResultsWithOffset,\n pkg_resources._vendor.pyparsing.ParseResults,\n pkg_resources._vendor.pyparsing.ParserElement._UnboundedCache,\n pkg_resources._vendor.pyparsing.ParserElement._FifoCache,\n pkg_resources._vendor.pyparsing.ParserElement,\n pkg_resources._vendor.pyparsing._NullToken,\n pkg_resources._vendor.pyparsing.OnlyOnce,\n pkg_resources._vendor.pyparsing.pyparsing_common,\n pkg_resources.extern.packaging.markers.Node,\n pkg_resources.extern.packaging.markers.Undefined,\n pkg_resources.extern.packaging.markers.Marker,\n pkg_resources.extern.packaging.requirements.Requirement,\n pkg_resources.IMetadataProvider,\n pkg_resources.WorkingSet,\n pkg_resources.Environment,\n pkg_resources.ResourceManager,\n pkg_resources.NullProvider,\n pkg_resources.NoDists,\n pkg_resources.EntryPoint,\n pkg_resources.Distribution,\n _pydevd_bundle.pydevd_extension_utils.ExtensionManager,\n _pydevd_bundle.pydevd_utils.VariableWithOffset,\n _pydevd_bundle.pydevd_resolver.InspectStub,\n _pydevd_bundle.pydevd_resolver.DefaultResolver,\n _pydevd_bundle.pydevd_resolver.DictResolver,\n _pydevd_bundle.pydevd_resolver.TupleResolver,\n _pydevd_bundle.pydevd_resolver.SetResolver,\n _pydevd_bundle.pydevd_resolver.InstanceResolver,\n _pydevd_bundle.pydevd_resolver.JyArrayResolver,\n _pydevd_bundle.pydevd_resolver.FrameResolver,\n _pydevd_bundle.pydevd_extension_api._AbstractResolver,\n _pydevd_bundle.pydevd_extension_api._AbstractProvider,\n _pydevd_bundle.pydevd_extension_api.DebuggerEventHandler,\n _pydevd_bundle.pydevd_xml.ExceptionOnEvaluate,\n _pydevd_bundle.pydevd_xml.TypeResolveHandler,\n _pydevd_bundle.pydevd_custom_frames.CustomFramesContainer,\n _pydevd_bundle.pydevd_custom_frames.CustomFrame,\n _pydevd_bundle.pydevd_vars.AdditionalFramesContainer,\n django.utils.datastructures.OrderedSet,\n django.utils.deprecation.warn_about_renamed_method,\n django.utils.deprecation.MiddlewareMixin,\n django.utils.functional.cached_property,\n django.utils.functional.Promise,\n django.utils.functional.LazyObject,\n django.conf.Settings,\n django.conf.UserSettingsHolder,\n _markupbase.ParserBase,\n django.utils.safestring.SafeData,\n django.apps.config.AppConfig,\n django.apps.registry.Apps,\n django.dispatch.dispatcher.Signal,\n django.utils.autoreload.BaseReloader,\n django.utils.translation.Trans,\n django.template.context.BaseContext,\n django.utils.dateformat.Formatter,\n django.template.base.Origin,\n django.template.base.Template,\n django.template.base.Token,\n django.template.base.Lexer,\n django.template.base.Parser,\n django.template.base.FilterExpression,\n django.template.base.Variable,\n django.template.base.Node,\n django.template.library.Library,\n django.template.engine.Engine,\n django.template.utils.EngineHandler,\n django.utils.six._LazyDescr,\n django.utils.six._SixMetaPathImporter,\n django.template.backends.base.BaseEngine,\n django.template.backends.django.Template,\n jinja2.utils.MissingType,\n jinja2.utils.LRUCache,\n jinja2.utils.Cycler,\n jinja2.utils.Joiner,\n jinja2.utils.Namespace,\n markupsafe._MarkupEscapeHelper,\n jinja2.nodes.EvalContext,\n jinja2.nodes.Node,\n jinja2.runtime.TemplateReference,\n jinja2.runtime.Context,\n jinja2.runtime.BlockReference,\n jinja2.runtime.LoopContextBase,\n jinja2.runtime.LoopContextIterator,\n jinja2.runtime.Macro,\n jinja2.runtime.Undefined,\n jinja2.lexer.Failure,\n jinja2.lexer.TokenStreamIterator,\n jinja2.lexer.TokenStream,\n jinja2.lexer.Lexer,\n jinja2.parser.Parser,\n jinja2.visitor.NodeVisitor,\n jinja2.idtracking.Symbols,\n jinja2.compiler.MacroRef,\n jinja2.compiler.Frame,\n jinja2.environment.Environment,\n jinja2.environment.Template,\n jinja2.environment.TemplateModule,\n jinja2.environment.TemplateExpression,\n jinja2.environment.TemplateStream,\n jinja2.loaders.BaseLoader,\n jinja2.bccache.Bucket,\n jinja2.bccache.BytecodeCache,\n jinja2.asyncsupport.AsyncLoopContextIterator,\n django.template.backends.jinja2.Template,\n django.template.backends.jinja2.Origin,\n django.forms.renderers.BaseRenderer,\n django.forms.renderers.EngineMixin,\n django.forms.widgets.Media,\n django.forms.widgets.Widget,\n django.forms.boundfield.BoundField,\n django.forms.boundfield.BoundWidget,\n django.core.validators.RegexValidator,\n django.core.validators.EmailValidator,\n django.core.validators.BaseValidator,\n django.core.validators.DecimalValidator,\n django.core.validators.FileExtensionValidator,\n django.core.validators.ProhibitNullCharactersValidator,\n django.forms.fields.Field,\n django.forms.fields.CallableChoiceIterator,\n django.forms.forms.BaseForm,\n django.forms.formsets.BaseFormSet,\n django.forms.models.ModelFormOptions,\n django.forms.models.ModelChoiceIterator,\n pydevd_plugins.extensions.types.pydevd_plugin_numpy_types.NdArrayResolver,\n pydevd_plugins.extensions.types.pydevd_plugin_numpy_types.NdArrayItemsContainer,\n pydevd_plugins.extensions.types.pydevd_plugin_numpy_types.NDArrayTypeResolveProvider,\n pydevd_plugins.extensions.types.pydevd_plugin_numpy_types.NDArrayStrProvider,\n pydevd_plugins.extensions.types.pydevd_plugin_numpy_types.NdArrayItemsContainerProvider,\n pydevd_plugins.extensions.types.pydevd_plugins_django_form_str.DjangoFormStr,\n __main__.Human]"
     },
     "execution_count": 21,
     "metadata": {},
     "output_type": "execute_result"
    }
   ],
   "source": [
    "# base 后面没有 [0]，不报错。有也不报错。\n",
    "().__class__.__base__.__subclasses__()"
   ],
   "metadata": {
    "collapsed": false,
    "pycharm": {
     "name": "#%%\n"
    }
   }
  },
  {
   "cell_type": "code",
   "execution_count": 22,
   "outputs": [
    {
     "data": {
      "text/plain": "<function object.__subclasses__>"
     },
     "execution_count": 22,
     "metadata": {},
     "output_type": "execute_result"
    }
   ],
   "source": [
    "().__class__.__base__.__subclasses__"
   ],
   "metadata": {
    "collapsed": false,
    "pycharm": {
     "name": "#%%\n"
    }
   }
  },
  {
   "cell_type": "code",
   "execution_count": null,
   "outputs": [],
   "source": [],
   "metadata": {
    "collapsed": false,
    "pycharm": {
     "name": "#%%\n"
    }
   }
  }
 ],
 "metadata": {
  "kernelspec": {
   "name": "python36_kernel",
   "language": "python",
   "display_name": "python36_Kernel"
  },
  "language_info": {
   "codemirror_mode": {
    "name": "ipython",
    "version": 2
   },
   "file_extension": ".py",
   "mimetype": "text/x-python",
   "name": "python",
   "nbconvert_exporter": "python",
   "pygments_lexer": "ipython2",
   "version": "2.7.6"
  }
 },
 "nbformat": 4,
 "nbformat_minor": 0
}