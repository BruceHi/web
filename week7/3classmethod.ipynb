{
 "cells": [
  {
   "cell_type": "code",
   "execution_count": 2,
   "metadata": {
    "collapsed": true
   },
   "outputs": [],
   "source": [
    "# 类方法\n",
    "class Kls1:\n",
    "    bar = 1\n",
    "    def foo(self):\n",
    "        print('in fo')\n",
    "    @classmethod\n",
    "    def class_foo(cls):\n",
    "        print(cls.bar)\n",
    "        print(cls.__name__)\n",
    "        cls().foo()"
   ]
  },
  {
   "cell_type": "code",
   "execution_count": 3,
   "outputs": [
    {
     "name": "stdout",
     "output_type": "stream",
     "text": [
      "1\n",
      "Kls1\n",
      "in fo\n"
     ]
    }
   ],
   "source": [
    "Kls1.class_foo()"
   ],
   "metadata": {
    "collapsed": false,
    "pycharm": {
     "name": "#%%\n"
    }
   }
  },
  {
   "cell_type": "code",
   "execution_count": 4,
   "outputs": [],
   "source": [
    "# 类和实例都可以使用类方法\n",
    "# 实例其实用的是绑定方法\n",
    "\n",
    "class Story:\n",
    "    snake = 'python'\n",
    "    def __init__(self, name):\n",
    "        self.name = name\n",
    "\n",
    "    # 很有 python 风格的方法命名\n",
    "    @classmethod\n",
    "    def get_apple_to_eve(cls):\n",
    "        return cls.snake"
   ],
   "metadata": {
    "collapsed": false,
    "pycharm": {
     "name": "#%%\n"
    }
   }
  },
  {
   "cell_type": "code",
   "execution_count": 5,
   "outputs": [],
   "source": [
    "s = Story('anyone')"
   ],
   "metadata": {
    "collapsed": false,
    "pycharm": {
     "name": "#%%\n"
    }
   }
  },
  {
   "cell_type": "code",
   "execution_count": 6,
   "outputs": [
    {
     "data": {
      "text/plain": "<bound method Story.get_apple_to_eve of <class '__main__.Story'>>"
     },
     "execution_count": 6,
     "metadata": {},
     "output_type": "execute_result"
    }
   ],
   "source": [
    "# 绑定方法\n",
    "s.get_apple_to_eve"
   ],
   "metadata": {
    "collapsed": false,
    "pycharm": {
     "name": "#%%\n"
    }
   }
  },
  {
   "cell_type": "code",
   "execution_count": 7,
   "outputs": [
    {
     "data": {
      "text/plain": "'python'"
     },
     "execution_count": 7,
     "metadata": {},
     "output_type": "execute_result"
    }
   ],
   "source": [
    "s.get_apple_to_eve()"
   ],
   "metadata": {
    "collapsed": false,
    "pycharm": {
     "name": "#%%\n"
    }
   }
  },
  {
   "cell_type": "code",
   "execution_count": 8,
   "outputs": [
    {
     "data": {
      "text/plain": "'python'"
     },
     "execution_count": 8,
     "metadata": {},
     "output_type": "execute_result"
    }
   ],
   "source": [
    "Story.get_apple_to_eve()"
   ],
   "metadata": {
    "collapsed": false,
    "pycharm": {
     "name": "#%%\n"
    }
   }
  },
  {
   "cell_type": "code",
   "execution_count": 9,
   "outputs": [],
   "source": [
    "class Kls2:\n",
    "    def __init__(self, fname, lname):\n",
    "        self.fname = fname\n",
    "        self.lname = lname\n",
    "\n",
    "    def print_name(self):\n",
    "        print(f'first name is {self.fname}')\n",
    "        print(f'last name is {self.lname}')"
   ],
   "metadata": {
    "collapsed": false,
    "pycharm": {
     "name": "#%%\n"
    }
   }
  },
  {
   "cell_type": "code",
   "execution_count": 10,
   "outputs": [
    {
     "name": "stdout",
     "output_type": "stream",
     "text": [
      "first name is bigfly\n",
      "last name is zu\n"
     ]
    }
   ],
   "source": [
    "me = Kls2('bigfly', 'zu')\n",
    "me.print_name()"
   ],
   "metadata": {
    "collapsed": false,
    "pycharm": {
     "name": "#%%\n"
    }
   }
  },
  {
   "cell_type": "code",
   "execution_count": 11,
   "outputs": [],
   "source": [
    "# 输入修改为 big-zu\n",
    "def pre_name(obj, name):\n",
    "    fname, lname = name.split('-')\n",
    "    return obj(fname, lname)"
   ],
   "metadata": {
    "collapsed": false,
    "pycharm": {
     "name": "#%%\n"
    }
   }
  },
  {
   "cell_type": "code",
   "execution_count": 12,
   "outputs": [
    {
     "name": "stdout",
     "output_type": "stream",
     "text": [
      "first name is big\n",
      "last name is zu\n"
     ]
    }
   ],
   "source": [
    "me2 = pre_name(Kls2, 'big-zu')\n",
    "me2.print_name()"
   ],
   "metadata": {
    "collapsed": false,
    "pycharm": {
     "name": "#%%\n"
    }
   }
  },
  {
   "cell_type": "code",
   "execution_count": 13,
   "outputs": [],
   "source": [
    "# 上面的预处理改为类方法\n",
    "class Kls3:\n",
    "    def __init__(self, fname, lname):\n",
    "        self.fname = fname\n",
    "        self.lname = lname\n",
    "\n",
    "    @classmethod\n",
    "    def pre_name(cls, name):\n",
    "        fname, lname = name.split('-')\n",
    "        return cls(fname, lname)\n",
    "\n",
    "    def print_name(self):\n",
    "        print(f'first name is {self.fname}')\n",
    "        print(f'last name is {self.lname}')"
   ],
   "metadata": {
    "collapsed": false,
    "pycharm": {
     "name": "#%%\n"
    }
   }
  },
  {
   "cell_type": "code",
   "execution_count": 14,
   "outputs": [
    {
     "name": "stdout",
     "output_type": "stream",
     "text": [
      "first name is big\n",
      "last name is zu\n"
     ]
    }
   ],
   "source": [
    "me3 = Kls3.pre_name('big-zu')\n",
    "me3.print_name()"
   ],
   "metadata": {
    "collapsed": false,
    "pycharm": {
     "name": "#%%\n"
    }
   }
  },
  {
   "cell_type": "code",
   "execution_count": 15,
   "outputs": [],
   "source": [
    "# 在类方法 用于类的继承\n",
    "class Fruit:\n",
    "    total = 0\n",
    "\n",
    "    @classmethod\n",
    "    def print_total(cls):\n",
    "        print(id(Fruit.total))\n",
    "        print(id(cls.total))\n",
    "\n",
    "    @classmethod\n",
    "    def set(cls, value):\n",
    "        print(f'calling {cls}, {value}')\n",
    "        cls.total = value"
   ],
   "metadata": {
    "collapsed": false,
    "pycharm": {
     "name": "#%%\n"
    }
   }
  },
  {
   "cell_type": "code",
   "execution_count": 16,
   "outputs": [],
   "source": [
    "class Apple(Fruit):\n",
    "    pass\n",
    "class Orange(Fruit):\n",
    "    pass"
   ],
   "metadata": {
    "collapsed": false,
    "pycharm": {
     "name": "#%%\n"
    }
   }
  },
  {
   "cell_type": "code",
   "execution_count": 17,
   "outputs": [
    {
     "name": "stdout",
     "output_type": "stream",
     "text": [
      "calling <class '__main__.Apple'>, 100\n"
     ]
    }
   ],
   "source": [
    "Apple.set(100)"
   ],
   "metadata": {
    "collapsed": false,
    "pycharm": {
     "name": "#%%\n"
    }
   }
  },
  {
   "cell_type": "code",
   "execution_count": 18,
   "outputs": [
    {
     "name": "stdout",
     "output_type": "stream",
     "text": [
      "calling <class '__main__.Orange'>, 200\n"
     ]
    }
   ],
   "source": [
    "Orange.set(200)"
   ],
   "metadata": {
    "collapsed": false,
    "pycharm": {
     "name": "#%%\n"
    }
   }
  },
  {
   "cell_type": "code",
   "execution_count": 20,
   "outputs": [
    {
     "name": "stdout",
     "output_type": "stream",
     "text": [
      "calling <class '__main__.Orange'>, 300\n"
     ]
    }
   ],
   "source": [
    "org = Orange()\n",
    "org.set(300)"
   ],
   "metadata": {
    "collapsed": false,
    "pycharm": {
     "name": "#%%\n"
    }
   }
  },
  {
   "cell_type": "code",
   "execution_count": 21,
   "outputs": [
    {
     "name": "stdout",
     "output_type": "stream",
     "text": [
      "1805299904\n",
      "1805303104\n"
     ]
    }
   ],
   "source": [
    "Apple.print_total()"
   ],
   "metadata": {
    "collapsed": false,
    "pycharm": {
     "name": "#%%\n"
    }
   }
  },
  {
   "cell_type": "code",
   "execution_count": 22,
   "outputs": [
    {
     "name": "stdout",
     "output_type": "stream",
     "text": [
      "1805299904\n",
      "1984214376944\n"
     ]
    }
   ],
   "source": [
    "Orange.print_total()"
   ],
   "metadata": {
    "collapsed": false,
    "pycharm": {
     "name": "#%%\n"
    }
   }
  },
  {
   "cell_type": "code",
   "execution_count": null,
   "outputs": [],
   "source": [],
   "metadata": {
    "collapsed": false,
    "pycharm": {
     "name": "#%%\n"
    }
   }
  }
 ],
 "metadata": {
  "kernelspec": {
   "name": "python36_kernel",
   "language": "python",
   "display_name": "python36_Kernel"
  },
  "language_info": {
   "codemirror_mode": {
    "name": "ipython",
    "version": 2
   },
   "file_extension": ".py",
   "mimetype": "text/x-python",
   "name": "python",
   "nbconvert_exporter": "python",
   "pygments_lexer": "ipython2",
   "version": "2.7.6"
  }
 },
 "nbformat": 4,
 "nbformat_minor": 0
}