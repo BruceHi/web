{
 "cells": [
  {
   "cell_type": "code",
   "execution_count": 1,
   "metadata": {
    "collapsed": true
   },
   "outputs": [],
   "source": [
    "import pandas as pd"
   ]
  },
  {
   "cell_type": "code",
   "execution_count": 4,
   "outputs": [
    {
     "data": {
      "text/plain": "   num1   num2  num3  num4\n0     1    4.0     5     7\n1    33    NaN    55    66\n2   111  222.0   333   444",
      "text/html": "<div>\n<style scoped>\n    .dataframe tbody tr th:only-of-type {\n        vertical-align: middle;\n    }\n\n    .dataframe tbody tr th {\n        vertical-align: top;\n    }\n\n    .dataframe thead th {\n        text-align: right;\n    }\n</style>\n<table border=\"1\" class=\"dataframe\">\n  <thead>\n    <tr style=\"text-align: right;\">\n      <th></th>\n      <th>num1</th>\n      <th>num2</th>\n      <th>num3</th>\n      <th>num4</th>\n    </tr>\n  </thead>\n  <tbody>\n    <tr>\n      <th>0</th>\n      <td>1</td>\n      <td>4.0</td>\n      <td>5</td>\n      <td>7</td>\n    </tr>\n    <tr>\n      <th>1</th>\n      <td>33</td>\n      <td>NaN</td>\n      <td>55</td>\n      <td>66</td>\n    </tr>\n    <tr>\n      <th>2</th>\n      <td>111</td>\n      <td>222.0</td>\n      <td>333</td>\n      <td>444</td>\n    </tr>\n  </tbody>\n</table>\n</div>"
     },
     "execution_count": 4,
     "metadata": {},
     "output_type": "execute_result"
    }
   ],
   "source": [
    "excel1 = pd.read_excel('1.xlsx')\n",
    "excel1"
   ],
   "metadata": {
    "collapsed": false,
    "pycharm": {
     "name": "#%%\n"
    }
   }
  },
  {
   "cell_type": "code",
   "execution_count": 6,
   "outputs": [
    {
     "data": {
      "text/plain": "   a  b  c\n0  1  2  3\n1  4  5  6",
      "text/html": "<div>\n<style scoped>\n    .dataframe tbody tr th:only-of-type {\n        vertical-align: middle;\n    }\n\n    .dataframe tbody tr th {\n        vertical-align: top;\n    }\n\n    .dataframe thead th {\n        text-align: right;\n    }\n</style>\n<table border=\"1\" class=\"dataframe\">\n  <thead>\n    <tr style=\"text-align: right;\">\n      <th></th>\n      <th>a</th>\n      <th>b</th>\n      <th>c</th>\n    </tr>\n  </thead>\n  <tbody>\n    <tr>\n      <th>0</th>\n      <td>1</td>\n      <td>2</td>\n      <td>3</td>\n    </tr>\n    <tr>\n      <th>1</th>\n      <td>4</td>\n      <td>5</td>\n      <td>6</td>\n    </tr>\n  </tbody>\n</table>\n</div>"
     },
     "execution_count": 6,
     "metadata": {},
     "output_type": "execute_result"
    }
   ],
   "source": [
    "# 读取指定的 sheet，默认 sheet_name=0。\n",
    "pd.read_excel('1.xlsx', sheet_name=1)"
   ],
   "metadata": {
    "collapsed": false,
    "pycharm": {
     "name": "#%%\n"
    }
   }
  },
  {
   "cell_type": "code",
   "execution_count": 9,
   "outputs": [
    {
     "data": {
      "text/plain": "   Student ID  name   age  gender\n0        1100  Kelly   22  Female\n1        1101    Clo   21  Female\n2        1102  Tilly   22  Female\n3        1103   Tony   24    Male\n4        1104  David   20    Male\n5        1105  Catty   22  Female\n6        1106      M    3  Female\n7        1107      N   43    Male\n8        1108      A   13    Male\n9        1109      S   12    Male",
      "text/html": "<div>\n<style scoped>\n    .dataframe tbody tr th:only-of-type {\n        vertical-align: middle;\n    }\n\n    .dataframe tbody tr th {\n        vertical-align: top;\n    }\n\n    .dataframe thead th {\n        text-align: right;\n    }\n</style>\n<table border=\"1\" class=\"dataframe\">\n  <thead>\n    <tr style=\"text-align: right;\">\n      <th></th>\n      <th>Student ID</th>\n      <th>name</th>\n      <th>age</th>\n      <th>gender</th>\n    </tr>\n  </thead>\n  <tbody>\n    <tr>\n      <th>0</th>\n      <td>1100</td>\n      <td>Kelly</td>\n      <td>22</td>\n      <td>Female</td>\n    </tr>\n    <tr>\n      <th>1</th>\n      <td>1101</td>\n      <td>Clo</td>\n      <td>21</td>\n      <td>Female</td>\n    </tr>\n    <tr>\n      <th>2</th>\n      <td>1102</td>\n      <td>Tilly</td>\n      <td>22</td>\n      <td>Female</td>\n    </tr>\n    <tr>\n      <th>3</th>\n      <td>1103</td>\n      <td>Tony</td>\n      <td>24</td>\n      <td>Male</td>\n    </tr>\n    <tr>\n      <th>4</th>\n      <td>1104</td>\n      <td>David</td>\n      <td>20</td>\n      <td>Male</td>\n    </tr>\n    <tr>\n      <th>5</th>\n      <td>1105</td>\n      <td>Catty</td>\n      <td>22</td>\n      <td>Female</td>\n    </tr>\n    <tr>\n      <th>6</th>\n      <td>1106</td>\n      <td>M</td>\n      <td>3</td>\n      <td>Female</td>\n    </tr>\n    <tr>\n      <th>7</th>\n      <td>1107</td>\n      <td>N</td>\n      <td>43</td>\n      <td>Male</td>\n    </tr>\n    <tr>\n      <th>8</th>\n      <td>1108</td>\n      <td>A</td>\n      <td>13</td>\n      <td>Male</td>\n    </tr>\n    <tr>\n      <th>9</th>\n      <td>1109</td>\n      <td>S</td>\n      <td>12</td>\n      <td>Male</td>\n    </tr>\n  </tbody>\n</table>\n</div>"
     },
     "execution_count": 9,
     "metadata": {},
     "output_type": "execute_result"
    }
   ],
   "source": [
    "# sep=\",\" 默认的，正常 csv 都是以‘，’分隔的。\n",
    "# 读取前 10 行。\n",
    "pd.read_csv('student.csv', nrows=10)"
   ],
   "metadata": {
    "collapsed": false,
    "pycharm": {
     "name": "#%%\n"
    }
   }
  },
  {
   "cell_type": "code",
   "execution_count": 11,
   "outputs": [
    {
     "data": {
      "text/plain": "    filename filetypes    filedate\n0     我和我的家乡     剧情／喜剧  2020-10-01\n1        姜子牙  动画／动作／冒险  2020-10-01\n2         八佰  剧情／战争／历史  2020-08-21\n3         夺冠        剧情  2020-09-25\n4   我在时间尽头等你  爱情／奇幻／喜剧  2020-08-25\n5        花木兰     剧情／冒险  2020-09-11\n6      一点就到家        青春  2020-10-04\n7        急先锋  动作／冒险／喜剧  2020-09-30\n8    木兰：横空出世  动画／喜剧／动作  2020-10-03\n9         信条  科幻／动作／剧情  2020-09-04\n10    我和我的家乡     剧情／喜剧  2020-10-01\n11       姜子牙  动画／动作／冒险  2020-10-01\n12        八佰  剧情／战争／历史  2020-08-21\n13        夺冠        剧情  2020-09-25\n14  我在时间尽头等你  爱情／奇幻／喜剧  2020-08-25\n15       花木兰     剧情／冒险  2020-09-11\n16     一点就到家        青春  2020-10-04\n17       急先锋  动作／冒险／喜剧  2020-09-30\n18   木兰：横空出世  动画／喜剧／动作  2020-10-03\n19        信条  科幻／动作／剧情  2020-09-04\n20    我和我的家乡     剧情／喜剧  2020-10-01\n21       姜子牙  动画／动作／冒险  2020-10-01\n22        八佰  剧情／战争／历史  2020-08-21\n23        夺冠        剧情  2020-09-25\n24  我在时间尽头等你  爱情／奇幻／喜剧  2020-08-25\n25       花木兰     剧情／冒险  2020-09-11\n26     一点就到家        青春  2020-10-04\n27       急先锋  动作／冒险／喜剧  2020-09-30\n28   木兰：横空出世  动画／喜剧／动作  2020-10-03\n29        信条  科幻／动作／剧情  2020-09-04",
      "text/html": "<div>\n<style scoped>\n    .dataframe tbody tr th:only-of-type {\n        vertical-align: middle;\n    }\n\n    .dataframe tbody tr th {\n        vertical-align: top;\n    }\n\n    .dataframe thead th {\n        text-align: right;\n    }\n</style>\n<table border=\"1\" class=\"dataframe\">\n  <thead>\n    <tr style=\"text-align: right;\">\n      <th></th>\n      <th>filename</th>\n      <th>filetypes</th>\n      <th>filedate</th>\n    </tr>\n  </thead>\n  <tbody>\n    <tr>\n      <th>0</th>\n      <td>我和我的家乡</td>\n      <td>剧情／喜剧</td>\n      <td>2020-10-01</td>\n    </tr>\n    <tr>\n      <th>1</th>\n      <td>姜子牙</td>\n      <td>动画／动作／冒险</td>\n      <td>2020-10-01</td>\n    </tr>\n    <tr>\n      <th>2</th>\n      <td>八佰</td>\n      <td>剧情／战争／历史</td>\n      <td>2020-08-21</td>\n    </tr>\n    <tr>\n      <th>3</th>\n      <td>夺冠</td>\n      <td>剧情</td>\n      <td>2020-09-25</td>\n    </tr>\n    <tr>\n      <th>4</th>\n      <td>我在时间尽头等你</td>\n      <td>爱情／奇幻／喜剧</td>\n      <td>2020-08-25</td>\n    </tr>\n    <tr>\n      <th>5</th>\n      <td>花木兰</td>\n      <td>剧情／冒险</td>\n      <td>2020-09-11</td>\n    </tr>\n    <tr>\n      <th>6</th>\n      <td>一点就到家</td>\n      <td>青春</td>\n      <td>2020-10-04</td>\n    </tr>\n    <tr>\n      <th>7</th>\n      <td>急先锋</td>\n      <td>动作／冒险／喜剧</td>\n      <td>2020-09-30</td>\n    </tr>\n    <tr>\n      <th>8</th>\n      <td>木兰：横空出世</td>\n      <td>动画／喜剧／动作</td>\n      <td>2020-10-03</td>\n    </tr>\n    <tr>\n      <th>9</th>\n      <td>信条</td>\n      <td>科幻／动作／剧情</td>\n      <td>2020-09-04</td>\n    </tr>\n    <tr>\n      <th>10</th>\n      <td>我和我的家乡</td>\n      <td>剧情／喜剧</td>\n      <td>2020-10-01</td>\n    </tr>\n    <tr>\n      <th>11</th>\n      <td>姜子牙</td>\n      <td>动画／动作／冒险</td>\n      <td>2020-10-01</td>\n    </tr>\n    <tr>\n      <th>12</th>\n      <td>八佰</td>\n      <td>剧情／战争／历史</td>\n      <td>2020-08-21</td>\n    </tr>\n    <tr>\n      <th>13</th>\n      <td>夺冠</td>\n      <td>剧情</td>\n      <td>2020-09-25</td>\n    </tr>\n    <tr>\n      <th>14</th>\n      <td>我在时间尽头等你</td>\n      <td>爱情／奇幻／喜剧</td>\n      <td>2020-08-25</td>\n    </tr>\n    <tr>\n      <th>15</th>\n      <td>花木兰</td>\n      <td>剧情／冒险</td>\n      <td>2020-09-11</td>\n    </tr>\n    <tr>\n      <th>16</th>\n      <td>一点就到家</td>\n      <td>青春</td>\n      <td>2020-10-04</td>\n    </tr>\n    <tr>\n      <th>17</th>\n      <td>急先锋</td>\n      <td>动作／冒险／喜剧</td>\n      <td>2020-09-30</td>\n    </tr>\n    <tr>\n      <th>18</th>\n      <td>木兰：横空出世</td>\n      <td>动画／喜剧／动作</td>\n      <td>2020-10-03</td>\n    </tr>\n    <tr>\n      <th>19</th>\n      <td>信条</td>\n      <td>科幻／动作／剧情</td>\n      <td>2020-09-04</td>\n    </tr>\n    <tr>\n      <th>20</th>\n      <td>我和我的家乡</td>\n      <td>剧情／喜剧</td>\n      <td>2020-10-01</td>\n    </tr>\n    <tr>\n      <th>21</th>\n      <td>姜子牙</td>\n      <td>动画／动作／冒险</td>\n      <td>2020-10-01</td>\n    </tr>\n    <tr>\n      <th>22</th>\n      <td>八佰</td>\n      <td>剧情／战争／历史</td>\n      <td>2020-08-21</td>\n    </tr>\n    <tr>\n      <th>23</th>\n      <td>夺冠</td>\n      <td>剧情</td>\n      <td>2020-09-25</td>\n    </tr>\n    <tr>\n      <th>24</th>\n      <td>我在时间尽头等你</td>\n      <td>爱情／奇幻／喜剧</td>\n      <td>2020-08-25</td>\n    </tr>\n    <tr>\n      <th>25</th>\n      <td>花木兰</td>\n      <td>剧情／冒险</td>\n      <td>2020-09-11</td>\n    </tr>\n    <tr>\n      <th>26</th>\n      <td>一点就到家</td>\n      <td>青春</td>\n      <td>2020-10-04</td>\n    </tr>\n    <tr>\n      <th>27</th>\n      <td>急先锋</td>\n      <td>动作／冒险／喜剧</td>\n      <td>2020-09-30</td>\n    </tr>\n    <tr>\n      <th>28</th>\n      <td>木兰：横空出世</td>\n      <td>动画／喜剧／动作</td>\n      <td>2020-10-03</td>\n    </tr>\n    <tr>\n      <th>29</th>\n      <td>信条</td>\n      <td>科幻／动作／剧情</td>\n      <td>2020-09-04</td>\n    </tr>\n  </tbody>\n</table>\n</div>"
     },
     "execution_count": 11,
     "metadata": {},
     "output_type": "execute_result"
    }
   ],
   "source": [
    "# 读取数据库\n",
    "import pymysql\n",
    "sql = 'select * from movies'\n",
    "conn = pymysql.Connect(host='localhost', user='root', password='123456',\n",
    "                       database='test', charset='utf8mb4')\n",
    "df = pd.read_sql(sql, conn)\n",
    "df"
   ],
   "metadata": {
    "collapsed": false,
    "pycharm": {
     "name": "#%%\n"
    }
   }
  },
  {
   "cell_type": "code",
   "execution_count": 12,
   "outputs": [
    {
     "data": {
      "text/plain": "   num1   num2  num3  num4\n0     1    4.0     5     7\n1    33    NaN    55    66\n2   111  222.0   333   444",
      "text/html": "<div>\n<style scoped>\n    .dataframe tbody tr th:only-of-type {\n        vertical-align: middle;\n    }\n\n    .dataframe tbody tr th {\n        vertical-align: top;\n    }\n\n    .dataframe thead th {\n        text-align: right;\n    }\n</style>\n<table border=\"1\" class=\"dataframe\">\n  <thead>\n    <tr style=\"text-align: right;\">\n      <th></th>\n      <th>num1</th>\n      <th>num2</th>\n      <th>num3</th>\n      <th>num4</th>\n    </tr>\n  </thead>\n  <tbody>\n    <tr>\n      <th>0</th>\n      <td>1</td>\n      <td>4.0</td>\n      <td>5</td>\n      <td>7</td>\n    </tr>\n    <tr>\n      <th>1</th>\n      <td>33</td>\n      <td>NaN</td>\n      <td>55</td>\n      <td>66</td>\n    </tr>\n    <tr>\n      <th>2</th>\n      <td>111</td>\n      <td>222.0</td>\n      <td>333</td>\n      <td>444</td>\n    </tr>\n  </tbody>\n</table>\n</div>"
     },
     "execution_count": 12,
     "metadata": {},
     "output_type": "execute_result"
    }
   ],
   "source": [
    "excel1.head(3)"
   ],
   "metadata": {
    "collapsed": false,
    "pycharm": {
     "name": "#%%\n"
    }
   }
  },
  {
   "cell_type": "code",
   "execution_count": 13,
   "outputs": [
    {
     "data": {
      "text/plain": "(3, 4)"
     },
     "execution_count": 13,
     "metadata": {},
     "output_type": "execute_result"
    }
   ],
   "source": [
    "excel1.shape"
   ],
   "metadata": {
    "collapsed": false,
    "pycharm": {
     "name": "#%%\n"
    }
   }
  },
  {
   "cell_type": "code",
   "execution_count": 14,
   "outputs": [
    {
     "data": {
      "text/plain": "<bound method DataFrame.info of    num1   num2  num3  num4\n0     1    4.0     5     7\n1    33    NaN    55    66\n2   111  222.0   333   444>"
     },
     "execution_count": 14,
     "metadata": {},
     "output_type": "execute_result"
    }
   ],
   "source": [
    "excel1.info"
   ],
   "metadata": {
    "collapsed": false,
    "pycharm": {
     "name": "#%%\n"
    }
   }
  },
  {
   "cell_type": "code",
   "execution_count": 15,
   "outputs": [
    {
     "data": {
      "text/plain": "             num1        num2        num3        num4\ncount    3.000000    2.000000    3.000000    3.000000\nmean    48.333333  113.000000  131.000000  172.333333\nstd     56.580326  154.149278  176.714459  237.112491\nmin      1.000000    4.000000    5.000000    7.000000\n25%     17.000000   58.500000   30.000000   36.500000\n50%     33.000000  113.000000   55.000000   66.000000\n75%     72.000000  167.500000  194.000000  255.000000\nmax    111.000000  222.000000  333.000000  444.000000",
      "text/html": "<div>\n<style scoped>\n    .dataframe tbody tr th:only-of-type {\n        vertical-align: middle;\n    }\n\n    .dataframe tbody tr th {\n        vertical-align: top;\n    }\n\n    .dataframe thead th {\n        text-align: right;\n    }\n</style>\n<table border=\"1\" class=\"dataframe\">\n  <thead>\n    <tr style=\"text-align: right;\">\n      <th></th>\n      <th>num1</th>\n      <th>num2</th>\n      <th>num3</th>\n      <th>num4</th>\n    </tr>\n  </thead>\n  <tbody>\n    <tr>\n      <th>count</th>\n      <td>3.000000</td>\n      <td>2.000000</td>\n      <td>3.000000</td>\n      <td>3.000000</td>\n    </tr>\n    <tr>\n      <th>mean</th>\n      <td>48.333333</td>\n      <td>113.000000</td>\n      <td>131.000000</td>\n      <td>172.333333</td>\n    </tr>\n    <tr>\n      <th>std</th>\n      <td>56.580326</td>\n      <td>154.149278</td>\n      <td>176.714459</td>\n      <td>237.112491</td>\n    </tr>\n    <tr>\n      <th>min</th>\n      <td>1.000000</td>\n      <td>4.000000</td>\n      <td>5.000000</td>\n      <td>7.000000</td>\n    </tr>\n    <tr>\n      <th>25%</th>\n      <td>17.000000</td>\n      <td>58.500000</td>\n      <td>30.000000</td>\n      <td>36.500000</td>\n    </tr>\n    <tr>\n      <th>50%</th>\n      <td>33.000000</td>\n      <td>113.000000</td>\n      <td>55.000000</td>\n      <td>66.000000</td>\n    </tr>\n    <tr>\n      <th>75%</th>\n      <td>72.000000</td>\n      <td>167.500000</td>\n      <td>194.000000</td>\n      <td>255.000000</td>\n    </tr>\n    <tr>\n      <th>max</th>\n      <td>111.000000</td>\n      <td>222.000000</td>\n      <td>333.000000</td>\n      <td>444.000000</td>\n    </tr>\n  </tbody>\n</table>\n</div>"
     },
     "execution_count": 15,
     "metadata": {},
     "output_type": "execute_result"
    }
   ],
   "source": [
    "excel1.describe()"
   ],
   "metadata": {
    "collapsed": false,
    "pycharm": {
     "name": "#%%\n"
    }
   }
  },
  {
   "cell_type": "code",
   "execution_count": 16,
   "outputs": [],
   "source": [
    "conn.close()"
   ],
   "metadata": {
    "collapsed": false,
    "pycharm": {
     "name": "#%%\n"
    }
   }
  },
  {
   "cell_type": "code",
   "execution_count": null,
   "outputs": [],
   "source": [],
   "metadata": {
    "collapsed": false,
    "pycharm": {
     "name": "#%%\n"
    }
   }
  }
 ],
 "metadata": {
  "kernelspec": {
   "name": "python36_kernel",
   "language": "python",
   "display_name": "python36_Kernel"
  },
  "language_info": {
   "codemirror_mode": {
    "name": "ipython",
    "version": 2
   },
   "file_extension": ".py",
   "mimetype": "text/x-python",
   "name": "python",
   "nbconvert_exporter": "python",
   "pygments_lexer": "ipython2",
   "version": "2.7.6"
  }
 },
 "nbformat": 4,
 "nbformat_minor": 0
}