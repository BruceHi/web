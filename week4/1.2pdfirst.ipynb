{
 "cells": [
  {
   "cell_type": "code",
   "execution_count": 1,
   "metadata": {
    "collapsed": true
   },
   "outputs": [],
   "source": [
    "import pandas as pd\n",
    "import os"
   ]
  },
  {
   "cell_type": "code",
   "execution_count": 7,
   "outputs": [
    {
     "name": "stdout",
     "output_type": "stream",
     "text": [
      "E:\\web\\__file__\n"
     ]
    },
    {
     "data": {
      "text/plain": "'E:\\\\web'"
     },
     "execution_count": 7,
     "metadata": {},
     "output_type": "execute_result"
    }
   ],
   "source": [
    "# 必须加引号，不然报错，交互模式可能会有问题\n",
    "print(os.path.realpath('__file__'))\n",
    "# 当前文件所在相对路径\n",
    "os.path.dirname(os.path.realpath('__file__'))"
   ],
   "metadata": {
    "collapsed": false,
    "pycharm": {
     "name": "#%%\n"
    }
   }
  },
  {
   "cell_type": "code",
   "execution_count": 8,
   "outputs": [
    {
     "data": {
      "text/plain": "'E:\\\\web'"
     },
     "execution_count": 8,
     "metadata": {},
     "output_type": "execute_result"
    }
   ],
   "source": [
    "# 等同于这个\n",
    "os.getcwd()"
   ],
   "metadata": {
    "collapsed": false,
    "pycharm": {
     "name": "#%%\n"
    }
   }
  },
  {
   "cell_type": "code",
   "execution_count": 9,
   "outputs": [
    {
     "name": "stdout",
     "output_type": "stream",
     "text": [
      "     还行  13  \\\n",
      "0    较差  10   \n",
      "1    还行   5   \n",
      "2    力荐   5   \n",
      "3    还行   3   \n",
      "4    很差   2   \n",
      "..   ..  ..   \n",
      "575  较差   0   \n",
      "576  还行   0   \n",
      "577  力荐   0   \n",
      "578  推荐   1   \n",
      "579  力荐   0   \n",
      "\n",
      "    とある科学の電磁砲。《禁忌魔术》中短篇《猛射》扩写的长篇，太单薄了。东野说这篇的汤川学是神探伽利略系列中最棒的，“不再只是小说中的棋子，而成为有血有肉的人”，但相反的，我从书中看到的，却是一个连人性都能算计都要算计的可怕的汤川学，一个更加冷冰冰的科学怪物。  \n",
      "0                   我们阿东开始炒冷饭了吗？把《禁忌魔术》中的短篇《猛射》拉长了写。。。                                                                                \n",
      "1                          其实就是《猛射》，原封不动地。看了才发现又重看了一次。                                                                                \n",
      "2     东野圭吾说这本书里的汤川是整个伽利略系列里最优秀的，我倒觉得是整个系列里情商最上线、最聪明的一次                                                                                \n",
      "3    作为扩写还是蛮成功的，本来点子就很赞，只写个短篇浪费了，长篇把相关人员的行为逻辑描写的更充分...                                                                                \n",
      "4    这本就是上海译文之前出过的《禁忌的魔术》里的一个稍长一些的中长篇《猛射》，完全没有扩写只是单...                                                                                \n",
      "..                                                 ...                                                                                \n",
      "575                             感觉像是什么有教育意义的故事，并不像推理（。                                                                                \n",
      "576                50页的短篇写成300页的长篇，东野老贼也网文化了，昏昏欲睡的一本小说                                                                                \n",
      "577  本来看着这个书名和开头的内容一点点引人入胜，是不错的题材，但最后结局没有任何新意，没有灵魂的...                                                                                \n",
      "578  书写的很好啦，但单单把禁忌魔术最后一个短篇拿出来，还扩写了，这个是神马操作？？？！！！真心好...                                                                                \n",
      "579  科学技术是双刃剑呀，关键在于使用者。\\r\\n秋惠是个迷，大贺心狠，汤川是个以德以情教化学生的...                                                                                \n",
      "\n",
      "[580 rows x 3 columns]\n"
     ]
    }
   ],
   "source": [
    "pwd = os.getcwd()\n",
    "book = os.path.join(pwd, 'book_utf8.csv')\n",
    "\n",
    "#自动把第一行作列属性，第一行不能用\n",
    "df = pd.read_csv(book)\n",
    "print(df)"
   ],
   "metadata": {
    "collapsed": false,
    "pycharm": {
     "name": "#%%\n"
    }
   }
  },
  {
   "cell_type": "code",
   "execution_count": 10,
   "outputs": [
    {
     "name": "stdout",
     "output_type": "stream",
     "text": [
      "0      较差\n",
      "1      还行\n",
      "2      力荐\n",
      "3      还行\n",
      "4      很差\n",
      "       ..\n",
      "575    较差\n",
      "576    还行\n",
      "577    力荐\n",
      "578    推荐\n",
      "579    力荐\n",
      "Name: 还行, Length: 580, dtype: object\n"
     ]
    }
   ],
   "source": [
    "print(df['还行'])"
   ],
   "metadata": {
    "collapsed": false,
    "pycharm": {
     "name": "#%%\n"
    }
   }
  },
  {
   "cell_type": "code",
   "execution_count": 11,
   "outputs": [
    {
     "data": {
      "text/plain": "   还行  13  \\\n0  较差  10   \n1  还行   5   \n2  力荐   5   \n\n  とある科学の電磁砲。《禁忌魔术》中短篇《猛射》扩写的长篇，太单薄了。东野说这篇的汤川学是神探伽利略系列中最棒的，“不再只是小说中的棋子，而成为有血有肉的人”，但相反的，我从书中看到的，却是一个连人性都能算计都要算计的可怕的汤川学，一个更加冷冰冰的科学怪物。  \n0                 我们阿东开始炒冷饭了吗？把《禁忌魔术》中的短篇《猛射》拉长了写。。。                                                                                \n1                        其实就是《猛射》，原封不动地。看了才发现又重看了一次。                                                                                \n2   东野圭吾说这本书里的汤川是整个伽利略系列里最优秀的，我倒觉得是整个系列里情商最上线、最聪明的一次                                                                                ",
      "text/html": "<div>\n<style scoped>\n    .dataframe tbody tr th:only-of-type {\n        vertical-align: middle;\n    }\n\n    .dataframe tbody tr th {\n        vertical-align: top;\n    }\n\n    .dataframe thead th {\n        text-align: right;\n    }\n</style>\n<table border=\"1\" class=\"dataframe\">\n  <thead>\n    <tr style=\"text-align: right;\">\n      <th></th>\n      <th>还行</th>\n      <th>13</th>\n      <th>とある科学の電磁砲。《禁忌魔术》中短篇《猛射》扩写的长篇，太单薄了。东野说这篇的汤川学是神探伽利略系列中最棒的，“不再只是小说中的棋子，而成为有血有肉的人”，但相反的，我从书中看到的，却是一个连人性都能算计都要算计的可怕的汤川学，一个更加冷冰冰的科学怪物。</th>\n    </tr>\n  </thead>\n  <tbody>\n    <tr>\n      <th>0</th>\n      <td>较差</td>\n      <td>10</td>\n      <td>我们阿东开始炒冷饭了吗？把《禁忌魔术》中的短篇《猛射》拉长了写。。。</td>\n    </tr>\n    <tr>\n      <th>1</th>\n      <td>还行</td>\n      <td>5</td>\n      <td>其实就是《猛射》，原封不动地。看了才发现又重看了一次。</td>\n    </tr>\n    <tr>\n      <th>2</th>\n      <td>力荐</td>\n      <td>5</td>\n      <td>东野圭吾说这本书里的汤川是整个伽利略系列里最优秀的，我倒觉得是整个系列里情商最上线、最聪明的一次</td>\n    </tr>\n  </tbody>\n</table>\n</div>"
     },
     "execution_count": 11,
     "metadata": {},
     "output_type": "execute_result"
    }
   ],
   "source": [
    "df[:3]"
   ],
   "metadata": {
    "collapsed": false,
    "pycharm": {
     "name": "#%%\n"
    }
   }
  },
  {
   "cell_type": "code",
   "execution_count": 12,
   "outputs": [
    {
     "data": {
      "text/plain": "  star  vote                                             shorts\n0   较差    10                 我们阿东开始炒冷饭了吗？把《禁忌魔术》中的短篇《猛射》拉长了写。。。\n1   还行     5                        其实就是《猛射》，原封不动地。看了才发现又重看了一次。\n2   力荐     5   东野圭吾说这本书里的汤川是整个伽利略系列里最优秀的，我倒觉得是整个系列里情商最上线、最聪明的一次\n3   还行     3  作为扩写还是蛮成功的，本来点子就很赞，只写个短篇浪费了，长篇把相关人员的行为逻辑描写的更充分...\n4   很差     2  这本就是上海译文之前出过的《禁忌的魔术》里的一个稍长一些的中长篇《猛射》，完全没有扩写只是单...",
      "text/html": "<div>\n<style scoped>\n    .dataframe tbody tr th:only-of-type {\n        vertical-align: middle;\n    }\n\n    .dataframe tbody tr th {\n        vertical-align: top;\n    }\n\n    .dataframe thead th {\n        text-align: right;\n    }\n</style>\n<table border=\"1\" class=\"dataframe\">\n  <thead>\n    <tr style=\"text-align: right;\">\n      <th></th>\n      <th>star</th>\n      <th>vote</th>\n      <th>shorts</th>\n    </tr>\n  </thead>\n  <tbody>\n    <tr>\n      <th>0</th>\n      <td>较差</td>\n      <td>10</td>\n      <td>我们阿东开始炒冷饭了吗？把《禁忌魔术》中的短篇《猛射》拉长了写。。。</td>\n    </tr>\n    <tr>\n      <th>1</th>\n      <td>还行</td>\n      <td>5</td>\n      <td>其实就是《猛射》，原封不动地。看了才发现又重看了一次。</td>\n    </tr>\n    <tr>\n      <th>2</th>\n      <td>力荐</td>\n      <td>5</td>\n      <td>东野圭吾说这本书里的汤川是整个伽利略系列里最优秀的，我倒觉得是整个系列里情商最上线、最聪明的一次</td>\n    </tr>\n    <tr>\n      <th>3</th>\n      <td>还行</td>\n      <td>3</td>\n      <td>作为扩写还是蛮成功的，本来点子就很赞，只写个短篇浪费了，长篇把相关人员的行为逻辑描写的更充分...</td>\n    </tr>\n    <tr>\n      <th>4</th>\n      <td>很差</td>\n      <td>2</td>\n      <td>这本就是上海译文之前出过的《禁忌的魔术》里的一个稍长一些的中长篇《猛射》，完全没有扩写只是单...</td>\n    </tr>\n  </tbody>\n</table>\n</div>"
     },
     "execution_count": 12,
     "metadata": {},
     "output_type": "execute_result"
    }
   ],
   "source": [
    "# 修改列名，原来是将文件的第一行当成列名，现在修改了一下。\n",
    "df.columns = ['star', 'vote', 'shorts']\n",
    "df.head()"
   ],
   "metadata": {
    "collapsed": false,
    "pycharm": {
     "name": "#%%\n"
    }
   }
  },
  {
   "cell_type": "code",
   "execution_count": 14,
   "outputs": [
    {
     "data": {
      "text/plain": "  star  vote                                             shorts\n0   还行    13  とある科学の電磁砲。《禁忌魔术》中短篇《猛射》扩写的长篇，太单薄了。东野说这篇的汤川学是神探...\n1   较差    10                 我们阿东开始炒冷饭了吗？把《禁忌魔术》中的短篇《猛射》拉长了写。。。\n2   还行     5                        其实就是《猛射》，原封不动地。看了才发现又重看了一次。\n3   力荐     5   东野圭吾说这本书里的汤川是整个伽利略系列里最优秀的，我倒觉得是整个系列里情商最上线、最聪明的一次\n4   还行     3  作为扩写还是蛮成功的，本来点子就很赞，只写个短篇浪费了，长篇把相关人员的行为逻辑描写的更充分...",
      "text/html": "<div>\n<style scoped>\n    .dataframe tbody tr th:only-of-type {\n        vertical-align: middle;\n    }\n\n    .dataframe tbody tr th {\n        vertical-align: top;\n    }\n\n    .dataframe thead th {\n        text-align: right;\n    }\n</style>\n<table border=\"1\" class=\"dataframe\">\n  <thead>\n    <tr style=\"text-align: right;\">\n      <th></th>\n      <th>star</th>\n      <th>vote</th>\n      <th>shorts</th>\n    </tr>\n  </thead>\n  <tbody>\n    <tr>\n      <th>0</th>\n      <td>还行</td>\n      <td>13</td>\n      <td>とある科学の電磁砲。《禁忌魔术》中短篇《猛射》扩写的长篇，太单薄了。东野说这篇的汤川学是神探...</td>\n    </tr>\n    <tr>\n      <th>1</th>\n      <td>较差</td>\n      <td>10</td>\n      <td>我们阿东开始炒冷饭了吗？把《禁忌魔术》中的短篇《猛射》拉长了写。。。</td>\n    </tr>\n    <tr>\n      <th>2</th>\n      <td>还行</td>\n      <td>5</td>\n      <td>其实就是《猛射》，原封不动地。看了才发现又重看了一次。</td>\n    </tr>\n    <tr>\n      <th>3</th>\n      <td>力荐</td>\n      <td>5</td>\n      <td>东野圭吾说这本书里的汤川是整个伽利略系列里最优秀的，我倒觉得是整个系列里情商最上线、最聪明的一次</td>\n    </tr>\n    <tr>\n      <th>4</th>\n      <td>还行</td>\n      <td>3</td>\n      <td>作为扩写还是蛮成功的，本来点子就很赞，只写个短篇浪费了，长篇把相关人员的行为逻辑描写的更充分...</td>\n    </tr>\n  </tbody>\n</table>\n</div>"
     },
     "execution_count": 14,
     "metadata": {},
     "output_type": "execute_result"
    }
   ],
   "source": [
    "df2 = pd.read_csv(book, header=None)\n",
    "df2.columns = ['star', 'vote', 'shorts']\n",
    "df2.head()"
   ],
   "metadata": {
    "collapsed": false,
    "pycharm": {
     "name": "#%%\n"
    }
   }
  },
  {
   "cell_type": "code",
   "execution_count": 20,
   "outputs": [
    {
     "data": {
      "text/plain": "  star  vote                                             shorts\n0   还行    13  とある科学の電磁砲。《禁忌魔术》中短篇《猛射》扩写的长篇，太单薄了。东野说这篇的汤川学是神探...\n1   较差    10                 我们阿东开始炒冷饭了吗？把《禁忌魔术》中的短篇《猛射》拉长了写。。。\n2   还行     5                        其实就是《猛射》，原封不动地。看了才发现又重看了一次。\n3   力荐     5   东野圭吾说这本书里的汤川是整个伽利略系列里最优秀的，我倒觉得是整个系列里情商最上线、最聪明的一次\n4   还行     3  作为扩写还是蛮成功的，本来点子就很赞，只写个短篇浪费了，长篇把相关人员的行为逻辑描写的更充分...",
      "text/html": "<div>\n<style scoped>\n    .dataframe tbody tr th:only-of-type {\n        vertical-align: middle;\n    }\n\n    .dataframe tbody tr th {\n        vertical-align: top;\n    }\n\n    .dataframe thead th {\n        text-align: right;\n    }\n</style>\n<table border=\"1\" class=\"dataframe\">\n  <thead>\n    <tr style=\"text-align: right;\">\n      <th></th>\n      <th>star</th>\n      <th>vote</th>\n      <th>shorts</th>\n    </tr>\n  </thead>\n  <tbody>\n    <tr>\n      <th>0</th>\n      <td>还行</td>\n      <td>13</td>\n      <td>とある科学の電磁砲。《禁忌魔术》中短篇《猛射》扩写的长篇，太单薄了。东野说这篇的汤川学是神探...</td>\n    </tr>\n    <tr>\n      <th>1</th>\n      <td>较差</td>\n      <td>10</td>\n      <td>我们阿东开始炒冷饭了吗？把《禁忌魔术》中的短篇《猛射》拉长了写。。。</td>\n    </tr>\n    <tr>\n      <th>2</th>\n      <td>还行</td>\n      <td>5</td>\n      <td>其实就是《猛射》，原封不动地。看了才发现又重看了一次。</td>\n    </tr>\n    <tr>\n      <th>3</th>\n      <td>力荐</td>\n      <td>5</td>\n      <td>东野圭吾说这本书里的汤川是整个伽利略系列里最优秀的，我倒觉得是整个系列里情商最上线、最聪明的一次</td>\n    </tr>\n    <tr>\n      <th>4</th>\n      <td>还行</td>\n      <td>3</td>\n      <td>作为扩写还是蛮成功的，本来点子就很赞，只写个短篇浪费了，长篇把相关人员的行为逻辑描写的更充分...</td>\n    </tr>\n  </tbody>\n</table>\n</div>"
     },
     "execution_count": 20,
     "metadata": {},
     "output_type": "execute_result"
    }
   ],
   "source": [
    "# header 表示第几行作为属性（列）标签，默认为 0。不想使用了用 header=None。\n",
    "# names 为属性标签。最好 header=None，也写上。\n",
    "df3 = pd.read_csv(book, header=None, names=['star', 'vote', 'shorts'])\n",
    "df3.head()"
   ],
   "metadata": {
    "collapsed": false,
    "pycharm": {
     "name": "#%%\n"
    }
   }
  },
  {
   "cell_type": "code",
   "execution_count": 21,
   "outputs": [
    {
     "data": {
      "text/plain": "1    还行\n2    力荐\n3    还行\nName: star, dtype: object"
     },
     "execution_count": 21,
     "metadata": {},
     "output_type": "execute_result"
    }
   ],
   "source": [
    "df.loc[1:3, 'star']"
   ],
   "metadata": {
    "collapsed": false,
    "pycharm": {
     "name": "#%%\n"
    }
   }
  },
  {
   "cell_type": "code",
   "execution_count": 22,
   "outputs": [
    {
     "data": {
      "text/plain": "    star  vote                                             shorts\n2     力荐     5   东野圭吾说这本书里的汤川是整个伽利略系列里最优秀的，我倒觉得是整个系列里情商最上线、最聪明的一次\n11    力荐     1        这本书的主题是传承。一个让东野念念不忘的故事，日本人更能理解的坚持与决绝，与诡计无关。\n55    力荐     0       其实就是《禁忌魔术》小说集里的最后一篇《猛射》，多线汇聚层层递进的老套路，总体乏善可陈…\n60    力荐     0  不想给他打低分，我比较喜欢汤川学…感觉自己的知识面有点窄，搞清楚了谁是凶手，却没搞清楚手法…...\n137   力荐     0                             挺好看的 这次的汤川不同于以往 多了份人情味\n147   力荐     0                                         科技没错，错的是人性\n172   力荐     0  love and peace。故事有点在高潮戛然而止的样子。东野叔的一贯套路，多线叙事渐渐汇...\n180   力荐     0  1、没读过《禁忌魔术》，所以没读过《猛射》(本书由这个短篇改编)，不过之后会补下这本短篇集《...\n211   力荐     0  当一个姓名所代表的不再是一个人，很多东西便无法自主，而大发展的车轮也不会因为一个人而停滞。个...\n212   力荐     1  从《嫌疑人X的献身》到《盛夏方程式》再到《禁断的魔术》，一向理智的“神探伽利略”汤川学一步步...\n223   力荐     0  鹈饲不是好东西…由里奈太蠢…秋穗跟大贺是自愿的…最后汤川拯救了申吾，大贺连丑闻被揭穿的惩罚都...\n251   力荐     0  短篇小说的扩写  因为先看过短篇 所以小说的场景跳跃 多条线描写都还是可以流畅阅读  原本以...\n253   力荐     0  科技好与坏，取决于使用者吧，最初科技发明的初衷，是为服务于人，科技无罪，有罪的是使用的人。汤...\n264   力荐     0                             嫌疑人没让我转汤川粉，禁断的魔术让我粉他了。\n272   力荐     0  虽然一开头就料到了结尾，案件本身也并没有什么精巧。\\r\\n但是却是最近几年来难得的一部看完哭...\n281   力荐     0                        地雷和核武器同为科学家所制造的最低劣，最邪恶的东西……\n282   力荐     0  那个大贺部长就是逢场做戏，不是爱古芝，作者花了那么多笔墨也不过是掩饰，不值得古芝。其实看的时...\n284   力荐     0  私以为是读过的十几本东野圭吾里比较贴近现实的一本，故事手法固然老套，但是人物比较真实，比起圣...\n305   力荐     0                                非常不错，天才的犯罪，更让人难以接受。\n332   力荐     0  真的好看 一直不喜欢伽利略系列 这本有get到汤川的点 在飞机上一口气看完 偷偷掉了点眼泪 ...\n336   力荐     0                          科技一旦落入心怀不轨的人之手，那便成了禁断的魔术。\n344   力荐     0                            很喜欢作者对议员人设的处理，不是个冷血的政治家\n357   力荐     0                                             最后没有按钮\n363   力荐     0                                              觉得挺好看\n371   力荐     0                      一度让我以为自己有了超能力的书，结果发现原来以前看过了。。\n375   力荐     0                                     还不错吧！最终能回头还是好的\n377   力荐     0                 《猛射》的扩展版，还蛮精彩的，伽利略老师毕竟也是个有情感的凡人呀。。\n384   力荐     0                                              挺一般的把\n430   力荐     0  挺精彩的，一直喜欢申午，单纯而认真的男人，真的招人喜欢，更别提女人了。\\r\\n\\r\\n男人是...\n465   力荐     0  依旧是我钟爱的伽利略系列。在面对自己欣赏的学弟，汤川还是流露出了内心最柔软的部分。大爱汤川！...\n482   力荐     0  感觉是不是有续集啊？还有汤川去纽约干嘛？然后呢？每次看他的书都有一点摸不清头脑，思维太具跳跃...\n515   力荐     0                                         越来越喜欢汤川教授了\n525   力荐     0                                情节紧张刺激，内容精彩，充满人生哲理。\n538   力荐     0  《禁断的魔术》–东野圭吾\\r\\n此次的故事没有以往的惊天动地的反转，可主题却是和今朝的科学发...\n543   力荐     0                                                平庸…\n555   力荐     0                                      东叔越来越走温情故事路线了\n556   力荐     0    不愧是我最爱的伽利略系列。这次的故事，面对自己欣赏的学弟，还是展现了汤川老师内心深处柔软的地方\n558   力荐     0                                  好的，从此我将无条件支持科研事业 \n561   力荐     0                                          湯川學！！有血有肉\n577   力荐     0  本来看着这个书名和开头的内容一点点引人入胜，是不错的题材，但最后结局没有任何新意，没有灵魂的...\n579   力荐     0  科学技术是双刃剑呀，关键在于使用者。\\r\\n秋惠是个迷，大贺心狠，汤川是个以德以情教化学生的...",
      "text/html": "<div>\n<style scoped>\n    .dataframe tbody tr th:only-of-type {\n        vertical-align: middle;\n    }\n\n    .dataframe tbody tr th {\n        vertical-align: top;\n    }\n\n    .dataframe thead th {\n        text-align: right;\n    }\n</style>\n<table border=\"1\" class=\"dataframe\">\n  <thead>\n    <tr style=\"text-align: right;\">\n      <th></th>\n      <th>star</th>\n      <th>vote</th>\n      <th>shorts</th>\n    </tr>\n  </thead>\n  <tbody>\n    <tr>\n      <th>2</th>\n      <td>力荐</td>\n      <td>5</td>\n      <td>东野圭吾说这本书里的汤川是整个伽利略系列里最优秀的，我倒觉得是整个系列里情商最上线、最聪明的一次</td>\n    </tr>\n    <tr>\n      <th>11</th>\n      <td>力荐</td>\n      <td>1</td>\n      <td>这本书的主题是传承。一个让东野念念不忘的故事，日本人更能理解的坚持与决绝，与诡计无关。</td>\n    </tr>\n    <tr>\n      <th>55</th>\n      <td>力荐</td>\n      <td>0</td>\n      <td>其实就是《禁忌魔术》小说集里的最后一篇《猛射》，多线汇聚层层递进的老套路，总体乏善可陈…</td>\n    </tr>\n    <tr>\n      <th>60</th>\n      <td>力荐</td>\n      <td>0</td>\n      <td>不想给他打低分，我比较喜欢汤川学…感觉自己的知识面有点窄，搞清楚了谁是凶手，却没搞清楚手法…...</td>\n    </tr>\n    <tr>\n      <th>137</th>\n      <td>力荐</td>\n      <td>0</td>\n      <td>挺好看的 这次的汤川不同于以往 多了份人情味</td>\n    </tr>\n    <tr>\n      <th>147</th>\n      <td>力荐</td>\n      <td>0</td>\n      <td>科技没错，错的是人性</td>\n    </tr>\n    <tr>\n      <th>172</th>\n      <td>力荐</td>\n      <td>0</td>\n      <td>love and peace。故事有点在高潮戛然而止的样子。东野叔的一贯套路，多线叙事渐渐汇...</td>\n    </tr>\n    <tr>\n      <th>180</th>\n      <td>力荐</td>\n      <td>0</td>\n      <td>1、没读过《禁忌魔术》，所以没读过《猛射》(本书由这个短篇改编)，不过之后会补下这本短篇集《...</td>\n    </tr>\n    <tr>\n      <th>211</th>\n      <td>力荐</td>\n      <td>0</td>\n      <td>当一个姓名所代表的不再是一个人，很多东西便无法自主，而大发展的车轮也不会因为一个人而停滞。个...</td>\n    </tr>\n    <tr>\n      <th>212</th>\n      <td>力荐</td>\n      <td>1</td>\n      <td>从《嫌疑人X的献身》到《盛夏方程式》再到《禁断的魔术》，一向理智的“神探伽利略”汤川学一步步...</td>\n    </tr>\n    <tr>\n      <th>223</th>\n      <td>力荐</td>\n      <td>0</td>\n      <td>鹈饲不是好东西…由里奈太蠢…秋穗跟大贺是自愿的…最后汤川拯救了申吾，大贺连丑闻被揭穿的惩罚都...</td>\n    </tr>\n    <tr>\n      <th>251</th>\n      <td>力荐</td>\n      <td>0</td>\n      <td>短篇小说的扩写  因为先看过短篇 所以小说的场景跳跃 多条线描写都还是可以流畅阅读  原本以...</td>\n    </tr>\n    <tr>\n      <th>253</th>\n      <td>力荐</td>\n      <td>0</td>\n      <td>科技好与坏，取决于使用者吧，最初科技发明的初衷，是为服务于人，科技无罪，有罪的是使用的人。汤...</td>\n    </tr>\n    <tr>\n      <th>264</th>\n      <td>力荐</td>\n      <td>0</td>\n      <td>嫌疑人没让我转汤川粉，禁断的魔术让我粉他了。</td>\n    </tr>\n    <tr>\n      <th>272</th>\n      <td>力荐</td>\n      <td>0</td>\n      <td>虽然一开头就料到了结尾，案件本身也并没有什么精巧。\\r\\n但是却是最近几年来难得的一部看完哭...</td>\n    </tr>\n    <tr>\n      <th>281</th>\n      <td>力荐</td>\n      <td>0</td>\n      <td>地雷和核武器同为科学家所制造的最低劣，最邪恶的东西……</td>\n    </tr>\n    <tr>\n      <th>282</th>\n      <td>力荐</td>\n      <td>0</td>\n      <td>那个大贺部长就是逢场做戏，不是爱古芝，作者花了那么多笔墨也不过是掩饰，不值得古芝。其实看的时...</td>\n    </tr>\n    <tr>\n      <th>284</th>\n      <td>力荐</td>\n      <td>0</td>\n      <td>私以为是读过的十几本东野圭吾里比较贴近现实的一本，故事手法固然老套，但是人物比较真实，比起圣...</td>\n    </tr>\n    <tr>\n      <th>305</th>\n      <td>力荐</td>\n      <td>0</td>\n      <td>非常不错，天才的犯罪，更让人难以接受。</td>\n    </tr>\n    <tr>\n      <th>332</th>\n      <td>力荐</td>\n      <td>0</td>\n      <td>真的好看 一直不喜欢伽利略系列 这本有get到汤川的点 在飞机上一口气看完 偷偷掉了点眼泪 ...</td>\n    </tr>\n    <tr>\n      <th>336</th>\n      <td>力荐</td>\n      <td>0</td>\n      <td>科技一旦落入心怀不轨的人之手，那便成了禁断的魔术。</td>\n    </tr>\n    <tr>\n      <th>344</th>\n      <td>力荐</td>\n      <td>0</td>\n      <td>很喜欢作者对议员人设的处理，不是个冷血的政治家</td>\n    </tr>\n    <tr>\n      <th>357</th>\n      <td>力荐</td>\n      <td>0</td>\n      <td>最后没有按钮</td>\n    </tr>\n    <tr>\n      <th>363</th>\n      <td>力荐</td>\n      <td>0</td>\n      <td>觉得挺好看</td>\n    </tr>\n    <tr>\n      <th>371</th>\n      <td>力荐</td>\n      <td>0</td>\n      <td>一度让我以为自己有了超能力的书，结果发现原来以前看过了。。</td>\n    </tr>\n    <tr>\n      <th>375</th>\n      <td>力荐</td>\n      <td>0</td>\n      <td>还不错吧！最终能回头还是好的</td>\n    </tr>\n    <tr>\n      <th>377</th>\n      <td>力荐</td>\n      <td>0</td>\n      <td>《猛射》的扩展版，还蛮精彩的，伽利略老师毕竟也是个有情感的凡人呀。。</td>\n    </tr>\n    <tr>\n      <th>384</th>\n      <td>力荐</td>\n      <td>0</td>\n      <td>挺一般的把</td>\n    </tr>\n    <tr>\n      <th>430</th>\n      <td>力荐</td>\n      <td>0</td>\n      <td>挺精彩的，一直喜欢申午，单纯而认真的男人，真的招人喜欢，更别提女人了。\\r\\n\\r\\n男人是...</td>\n    </tr>\n    <tr>\n      <th>465</th>\n      <td>力荐</td>\n      <td>0</td>\n      <td>依旧是我钟爱的伽利略系列。在面对自己欣赏的学弟，汤川还是流露出了内心最柔软的部分。大爱汤川！...</td>\n    </tr>\n    <tr>\n      <th>482</th>\n      <td>力荐</td>\n      <td>0</td>\n      <td>感觉是不是有续集啊？还有汤川去纽约干嘛？然后呢？每次看他的书都有一点摸不清头脑，思维太具跳跃...</td>\n    </tr>\n    <tr>\n      <th>515</th>\n      <td>力荐</td>\n      <td>0</td>\n      <td>越来越喜欢汤川教授了</td>\n    </tr>\n    <tr>\n      <th>525</th>\n      <td>力荐</td>\n      <td>0</td>\n      <td>情节紧张刺激，内容精彩，充满人生哲理。</td>\n    </tr>\n    <tr>\n      <th>538</th>\n      <td>力荐</td>\n      <td>0</td>\n      <td>《禁断的魔术》–东野圭吾\\r\\n此次的故事没有以往的惊天动地的反转，可主题却是和今朝的科学发...</td>\n    </tr>\n    <tr>\n      <th>543</th>\n      <td>力荐</td>\n      <td>0</td>\n      <td>平庸…</td>\n    </tr>\n    <tr>\n      <th>555</th>\n      <td>力荐</td>\n      <td>0</td>\n      <td>东叔越来越走温情故事路线了</td>\n    </tr>\n    <tr>\n      <th>556</th>\n      <td>力荐</td>\n      <td>0</td>\n      <td>不愧是我最爱的伽利略系列。这次的故事，面对自己欣赏的学弟，还是展现了汤川老师内心深处柔软的地方</td>\n    </tr>\n    <tr>\n      <th>558</th>\n      <td>力荐</td>\n      <td>0</td>\n      <td>好的，从此我将无条件支持科研事业</td>\n    </tr>\n    <tr>\n      <th>561</th>\n      <td>力荐</td>\n      <td>0</td>\n      <td>湯川學！！有血有肉</td>\n    </tr>\n    <tr>\n      <th>577</th>\n      <td>力荐</td>\n      <td>0</td>\n      <td>本来看着这个书名和开头的内容一点点引人入胜，是不错的题材，但最后结局没有任何新意，没有灵魂的...</td>\n    </tr>\n    <tr>\n      <th>579</th>\n      <td>力荐</td>\n      <td>0</td>\n      <td>科学技术是双刃剑呀，关键在于使用者。\\r\\n秋惠是个迷，大贺心狠，汤川是个以德以情教化学生的...</td>\n    </tr>\n  </tbody>\n</table>\n</div>"
     },
     "execution_count": 22,
     "metadata": {},
     "output_type": "execute_result"
    }
   ],
   "source": [
    "df[df['star'] == '力荐']"
   ],
   "metadata": {
    "collapsed": false,
    "pycharm": {
     "name": "#%%\n"
    }
   }
  },
  {
   "cell_type": "code",
   "execution_count": 23,
   "outputs": [
    {
     "data": {
      "text/plain": "    star  vote                                             shorts\n0     较差    10                 我们阿东开始炒冷饭了吗？把《禁忌魔术》中的短篇《猛射》拉长了写。。。\n1     还行     5                        其实就是《猛射》，原封不动地。看了才发现又重看了一次。\n2     力荐     5   东野圭吾说这本书里的汤川是整个伽利略系列里最优秀的，我倒觉得是整个系列里情商最上线、最聪明的一次\n3     还行     3  作为扩写还是蛮成功的，本来点子就很赞，只写个短篇浪费了，长篇把相关人员的行为逻辑描写的更充分...\n4     很差     2  这本就是上海译文之前出过的《禁忌的魔术》里的一个稍长一些的中长篇《猛射》，完全没有扩写只是单...\n..   ...   ...                                                ...\n575   较差     0                             感觉像是什么有教育意义的故事，并不像推理（。\n576   还行     0                50页的短篇写成300页的长篇，东野老贼也网文化了，昏昏欲睡的一本小说\n577   力荐     0  本来看着这个书名和开头的内容一点点引人入胜，是不错的题材，但最后结局没有任何新意，没有灵魂的...\n578   推荐     1  书写的很好啦，但单单把禁忌魔术最后一个短篇拿出来，还扩写了，这个是神马操作？？？！！！真心好...\n579   力荐     0  科学技术是双刃剑呀，关键在于使用者。\\r\\n秋惠是个迷，大贺心狠，汤川是个以德以情教化学生的...\n\n[580 rows x 3 columns]",
      "text/html": "<div>\n<style scoped>\n    .dataframe tbody tr th:only-of-type {\n        vertical-align: middle;\n    }\n\n    .dataframe tbody tr th {\n        vertical-align: top;\n    }\n\n    .dataframe thead th {\n        text-align: right;\n    }\n</style>\n<table border=\"1\" class=\"dataframe\">\n  <thead>\n    <tr style=\"text-align: right;\">\n      <th></th>\n      <th>star</th>\n      <th>vote</th>\n      <th>shorts</th>\n    </tr>\n  </thead>\n  <tbody>\n    <tr>\n      <th>0</th>\n      <td>较差</td>\n      <td>10</td>\n      <td>我们阿东开始炒冷饭了吗？把《禁忌魔术》中的短篇《猛射》拉长了写。。。</td>\n    </tr>\n    <tr>\n      <th>1</th>\n      <td>还行</td>\n      <td>5</td>\n      <td>其实就是《猛射》，原封不动地。看了才发现又重看了一次。</td>\n    </tr>\n    <tr>\n      <th>2</th>\n      <td>力荐</td>\n      <td>5</td>\n      <td>东野圭吾说这本书里的汤川是整个伽利略系列里最优秀的，我倒觉得是整个系列里情商最上线、最聪明的一次</td>\n    </tr>\n    <tr>\n      <th>3</th>\n      <td>还行</td>\n      <td>3</td>\n      <td>作为扩写还是蛮成功的，本来点子就很赞，只写个短篇浪费了，长篇把相关人员的行为逻辑描写的更充分...</td>\n    </tr>\n    <tr>\n      <th>4</th>\n      <td>很差</td>\n      <td>2</td>\n      <td>这本就是上海译文之前出过的《禁忌的魔术》里的一个稍长一些的中长篇《猛射》，完全没有扩写只是单...</td>\n    </tr>\n    <tr>\n      <th>...</th>\n      <td>...</td>\n      <td>...</td>\n      <td>...</td>\n    </tr>\n    <tr>\n      <th>575</th>\n      <td>较差</td>\n      <td>0</td>\n      <td>感觉像是什么有教育意义的故事，并不像推理（。</td>\n    </tr>\n    <tr>\n      <th>576</th>\n      <td>还行</td>\n      <td>0</td>\n      <td>50页的短篇写成300页的长篇，东野老贼也网文化了，昏昏欲睡的一本小说</td>\n    </tr>\n    <tr>\n      <th>577</th>\n      <td>力荐</td>\n      <td>0</td>\n      <td>本来看着这个书名和开头的内容一点点引人入胜，是不错的题材，但最后结局没有任何新意，没有灵魂的...</td>\n    </tr>\n    <tr>\n      <th>578</th>\n      <td>推荐</td>\n      <td>1</td>\n      <td>书写的很好啦，但单单把禁忌魔术最后一个短篇拿出来，还扩写了，这个是神马操作？？？！！！真心好...</td>\n    </tr>\n    <tr>\n      <th>579</th>\n      <td>力荐</td>\n      <td>0</td>\n      <td>科学技术是双刃剑呀，关键在于使用者。\\r\\n秋惠是个迷，大贺心狠，汤川是个以德以情教化学生的...</td>\n    </tr>\n  </tbody>\n</table>\n<p>580 rows × 3 columns</p>\n</div>"
     },
     "execution_count": 23,
     "metadata": {},
     "output_type": "execute_result"
    }
   ],
   "source": [
    "df.dropna()"
   ],
   "metadata": {
    "collapsed": false,
    "pycharm": {
     "name": "#%%\n"
    }
   }
  },
  {
   "cell_type": "code",
   "execution_count": 25,
   "outputs": [
    {
     "data": {
      "text/plain": "      vote\nstar      \n力荐       7\n很差       2\n推荐       3\n较差      14\n还行      24",
      "text/html": "<div>\n<style scoped>\n    .dataframe tbody tr th:only-of-type {\n        vertical-align: middle;\n    }\n\n    .dataframe tbody tr th {\n        vertical-align: top;\n    }\n\n    .dataframe thead th {\n        text-align: right;\n    }\n</style>\n<table border=\"1\" class=\"dataframe\">\n  <thead>\n    <tr style=\"text-align: right;\">\n      <th></th>\n      <th>vote</th>\n    </tr>\n    <tr>\n      <th>star</th>\n      <th></th>\n    </tr>\n  </thead>\n  <tbody>\n    <tr>\n      <th>力荐</th>\n      <td>7</td>\n    </tr>\n    <tr>\n      <th>很差</th>\n      <td>2</td>\n    </tr>\n    <tr>\n      <th>推荐</th>\n      <td>3</td>\n    </tr>\n    <tr>\n      <th>较差</th>\n      <td>14</td>\n    </tr>\n    <tr>\n      <th>还行</th>\n      <td>24</td>\n    </tr>\n  </tbody>\n</table>\n</div>"
     },
     "execution_count": 25,
     "metadata": {},
     "output_type": "execute_result"
    }
   ],
   "source": [
    "# 数据聚和\n",
    "df.groupby('star').sum()"
   ],
   "metadata": {
    "collapsed": false,
    "pycharm": {
     "name": "#%%\n"
    }
   }
  },
  {
   "cell_type": "code",
   "execution_count": 26,
   "outputs": [],
   "source": [
    "# 增加新列\n",
    "star_to_num = {\n",
    "    '力荐': 5,\n",
    "    '推荐': 4,\n",
    "    '还行': 3,\n",
    "    '较差': 2,\n",
    "    '很差': 1,\n",
    "}\n",
    "# 使用映射函数\n",
    "df['new_star'] = df['star'].map(star_to_num)"
   ],
   "metadata": {
    "collapsed": false,
    "pycharm": {
     "name": "#%%\n"
    }
   }
  },
  {
   "cell_type": "code",
   "execution_count": 27,
   "outputs": [
    {
     "data": {
      "text/plain": "  star  vote                                             shorts  new_star\n0   较差    10                 我们阿东开始炒冷饭了吗？把《禁忌魔术》中的短篇《猛射》拉长了写。。。         2\n1   还行     5                        其实就是《猛射》，原封不动地。看了才发现又重看了一次。         3\n2   力荐     5   东野圭吾说这本书里的汤川是整个伽利略系列里最优秀的，我倒觉得是整个系列里情商最上线、最聪明的一次         5\n3   还行     3  作为扩写还是蛮成功的，本来点子就很赞，只写个短篇浪费了，长篇把相关人员的行为逻辑描写的更充分...         3\n4   很差     2  这本就是上海译文之前出过的《禁忌的魔术》里的一个稍长一些的中长篇《猛射》，完全没有扩写只是单...         1",
      "text/html": "<div>\n<style scoped>\n    .dataframe tbody tr th:only-of-type {\n        vertical-align: middle;\n    }\n\n    .dataframe tbody tr th {\n        vertical-align: top;\n    }\n\n    .dataframe thead th {\n        text-align: right;\n    }\n</style>\n<table border=\"1\" class=\"dataframe\">\n  <thead>\n    <tr style=\"text-align: right;\">\n      <th></th>\n      <th>star</th>\n      <th>vote</th>\n      <th>shorts</th>\n      <th>new_star</th>\n    </tr>\n  </thead>\n  <tbody>\n    <tr>\n      <th>0</th>\n      <td>较差</td>\n      <td>10</td>\n      <td>我们阿东开始炒冷饭了吗？把《禁忌魔术》中的短篇《猛射》拉长了写。。。</td>\n      <td>2</td>\n    </tr>\n    <tr>\n      <th>1</th>\n      <td>还行</td>\n      <td>5</td>\n      <td>其实就是《猛射》，原封不动地。看了才发现又重看了一次。</td>\n      <td>3</td>\n    </tr>\n    <tr>\n      <th>2</th>\n      <td>力荐</td>\n      <td>5</td>\n      <td>东野圭吾说这本书里的汤川是整个伽利略系列里最优秀的，我倒觉得是整个系列里情商最上线、最聪明的一次</td>\n      <td>5</td>\n    </tr>\n    <tr>\n      <th>3</th>\n      <td>还行</td>\n      <td>3</td>\n      <td>作为扩写还是蛮成功的，本来点子就很赞，只写个短篇浪费了，长篇把相关人员的行为逻辑描写的更充分...</td>\n      <td>3</td>\n    </tr>\n    <tr>\n      <th>4</th>\n      <td>很差</td>\n      <td>2</td>\n      <td>这本就是上海译文之前出过的《禁忌的魔术》里的一个稍长一些的中长篇《猛射》，完全没有扩写只是单...</td>\n      <td>1</td>\n    </tr>\n  </tbody>\n</table>\n</div>"
     },
     "execution_count": 27,
     "metadata": {},
     "output_type": "execute_result"
    }
   ],
   "source": [
    "df.head()"
   ],
   "metadata": {
    "collapsed": false,
    "pycharm": {
     "name": "#%%\n"
    }
   }
  },
  {
   "cell_type": "code",
   "execution_count": null,
   "outputs": [],
   "source": [],
   "metadata": {
    "collapsed": false,
    "pycharm": {
     "name": "#%%\n"
    }
   }
  }
 ],
 "metadata": {
  "kernelspec": {
   "name": "python36_kernel",
   "language": "python",
   "display_name": "python36_Kernel"
  },
  "language_info": {
   "codemirror_mode": {
    "name": "ipython",
    "version": 2
   },
   "file_extension": ".py",
   "mimetype": "text/x-python",
   "name": "python",
   "nbconvert_exporter": "python",
   "pygments_lexer": "ipython2",
   "version": "2.7.6"
  }
 },
 "nbformat": 4,
 "nbformat_minor": 0
}