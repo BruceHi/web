{
 "cells": [
  {
   "cell_type": "code",
   "execution_count": 2,
   "metadata": {
    "collapsed": true
   },
   "outputs": [],
   "source": [
    "from snownlp import SnowNLP"
   ]
  },
  {
   "cell_type": "code",
   "execution_count": 3,
   "outputs": [],
   "source": [
    "text = '其实故事本来真的只值三星当初的中篇就足够了但是啊看到最后我又一次被东野叔的反战思想打动了所以就加多一星吧'\n",
    "s = SnowNLP(text)"
   ],
   "metadata": {
    "collapsed": false,
    "pycharm": {
     "name": "#%%\n"
    }
   }
  },
  {
   "cell_type": "code",
   "execution_count": 4,
   "outputs": [
    {
     "data": {
      "text/plain": "['其实',\n '故事',\n '本来',\n '真的',\n '只值',\n '三星',\n '当初',\n '的',\n '中篇',\n '就',\n '足够',\n '了',\n '但是',\n '啊',\n '看到',\n '最后',\n '我',\n '又',\n '一',\n '次',\n '被东',\n '野',\n '叔',\n '的',\n '反战',\n '思想',\n '打动',\n '了',\n '所以',\n '就',\n '加',\n '多',\n '一',\n '星',\n '吧']"
     },
     "execution_count": 4,
     "metadata": {},
     "output_type": "execute_result"
    }
   ],
   "source": [
    "# 1.中文分词\n",
    "s.words"
   ],
   "metadata": {
    "collapsed": false,
    "pycharm": {
     "name": "#%%\n"
    }
   }
  },
  {
   "cell_type": "code",
   "execution_count": 8,
   "outputs": [
    {
     "data": {
      "text/plain": "[('其实', 'd'),\n ('故事', 'n'),\n ('本来', 'd'),\n ('真的', 'd'),\n ('只值', 'p'),\n ('三星', 'nz'),\n ('当初', 't'),\n ('的', 'u'),\n ('中篇', 'n'),\n ('就', 'd'),\n ('足够', 'v'),\n ('了', 'u'),\n ('但是', 'c'),\n ('啊', 'y'),\n ('看到', 'v'),\n ('最后', 'f'),\n ('我', 'r'),\n ('又', 'd'),\n ('一', 'm'),\n ('次', 'q'),\n ('被东', 'h'),\n ('野', 'b'),\n ('叔', 'n'),\n ('的', 'u'),\n ('反战', 'b'),\n ('思想', 'n'),\n ('打动', 'v'),\n ('了', 'u'),\n ('所以', 'c'),\n ('就', 'd'),\n ('加', 'v'),\n ('多', 'm'),\n ('一', 'm'),\n ('星', 'n'),\n ('吧', 'y')]"
     },
     "execution_count": 8,
     "metadata": {},
     "output_type": "execute_result"
    }
   ],
   "source": [
    "# 2. 词性标注（隐形马尔可夫模型）\n",
    "# s.tags  # 类型是 <zip at 0x1f5ebbf3988>\n",
    "list(s.tags)"
   ],
   "metadata": {
    "collapsed": false,
    "pycharm": {
     "name": "#%%\n"
    }
   }
  },
  {
   "cell_type": "code",
   "execution_count": 9,
   "outputs": [
    {
     "data": {
      "text/plain": "0.9995923786164326"
     },
     "execution_count": 9,
     "metadata": {},
     "output_type": "execute_result"
    }
   ],
   "source": [
    "# 3. 情感分析（朴素贝叶斯分类器）\n",
    "s.sentiments"
   ],
   "metadata": {
    "collapsed": false,
    "pycharm": {
     "name": "#%%\n"
    }
   }
  },
  {
   "cell_type": "code",
   "execution_count": 11,
   "outputs": [
    {
     "data": {
      "text/plain": "list"
     },
     "execution_count": 11,
     "metadata": {},
     "output_type": "execute_result"
    }
   ],
   "source": [
    "# 把句子以列表形式输出来\n",
    "s.sentences"
   ],
   "metadata": {
    "collapsed": false,
    "pycharm": {
     "name": "#%%\n"
    }
   }
  },
  {
   "cell_type": "code",
   "execution_count": 12,
   "outputs": [
    {
     "data": {
      "text/plain": "0.49375411042752326"
     },
     "execution_count": 12,
     "metadata": {},
     "output_type": "execute_result"
    }
   ],
   "source": [
    "text2 = '这本书烂透了'\n",
    "s2 = SnowNLP(text2)\n",
    "s2.sentiments"
   ],
   "metadata": {
    "collapsed": false,
    "pycharm": {
     "name": "#%%\n"
    }
   }
  },
  {
   "cell_type": "code",
   "execution_count": 13,
   "outputs": [
    {
     "data": {
      "text/plain": "['qi',\n 'shi',\n 'gu',\n 'shi',\n 'ben',\n 'lai',\n 'zhen',\n 'de',\n 'zhi',\n 'zhi',\n 'san',\n 'xing',\n 'dang',\n 'chu',\n 'de',\n 'zhong',\n 'pian',\n 'jiu',\n 'zu',\n 'gou',\n 'liao',\n 'dan',\n 'shi',\n 'a',\n 'kan',\n 'dao',\n 'zui',\n 'hou',\n 'wo',\n 'you',\n 'yi',\n 'ci',\n 'bei',\n 'dong',\n 'ye',\n 'shu',\n 'de',\n 'fan',\n 'zhan',\n 'si',\n 'xiang',\n 'da',\n 'dong',\n 'liao',\n 'suo',\n 'yi',\n 'jiu',\n 'jia',\n 'duo',\n 'yi',\n 'xing',\n 'ba']"
     },
     "execution_count": 13,
     "metadata": {},
     "output_type": "execute_result"
    }
   ],
   "source": [
    "# 4. 拼音（Trie 树，字典树，前缀树）\n",
    "s.pinyin"
   ],
   "metadata": {
    "collapsed": false,
    "pycharm": {
     "name": "#%%\n"
    }
   }
  },
  {
   "cell_type": "code",
   "execution_count": 14,
   "outputs": [
    {
     "data": {
      "text/plain": "'后面这些是繁体字'"
     },
     "execution_count": 14,
     "metadata": {},
     "output_type": "execute_result"
    }
   ],
   "source": [
    "# 5. 繁体转简体\n",
    "text3 = '後面這些是繁體字'\n",
    "s3 = SnowNLP(text3)\n",
    "s3.han"
   ],
   "metadata": {
    "collapsed": false,
    "pycharm": {
     "name": "#%%\n"
    }
   }
  },
  {
   "cell_type": "code",
   "execution_count": 17,
   "outputs": [
    {
     "data": {
      "text/plain": "['三星', '反战', '当初', '叔', '野']"
     },
     "execution_count": 17,
     "metadata": {},
     "output_type": "execute_result"
    }
   ],
   "source": [
    "# 6. 提取关键字\n",
    "s.keywords(5)"
   ],
   "metadata": {
    "collapsed": false,
    "pycharm": {
     "name": "#%%\n"
    }
   }
  },
  {
   "cell_type": "code",
   "execution_count": 18,
   "outputs": [
    {
     "data": {
      "text/plain": "[{'其': 1},\n {'实': 1},\n {'故': 1},\n {'事': 1},\n {'本': 1},\n {'来': 1},\n {'真': 1},\n {'的': 1},\n {'只': 1},\n {'值': 1},\n {'三': 1},\n {'星': 1},\n {'当': 1},\n {'初': 1},\n {'的': 1},\n {'中': 1},\n {'篇': 1},\n {'就': 1},\n {'足': 1},\n {'够': 1},\n {'了': 1},\n {'但': 1},\n {'是': 1},\n {'啊': 1},\n {'看': 1},\n {'到': 1},\n {'最': 1},\n {'后': 1},\n {'我': 1},\n {'又': 1},\n {'一': 1},\n {'次': 1},\n {'被': 1},\n {'东': 1},\n {'野': 1},\n {'叔': 1},\n {'的': 1},\n {'反': 1},\n {'战': 1},\n {'思': 1},\n {'想': 1},\n {'打': 1},\n {'动': 1},\n {'了': 1},\n {'所': 1},\n {'以': 1},\n {'就': 1},\n {'加': 1},\n {'多': 1},\n {'一': 1},\n {'星': 1},\n {'吧': 1}]"
     },
     "execution_count": 18,
     "metadata": {},
     "output_type": "execute_result"
    }
   ],
   "source": [
    "# 7. 信息衡量\n",
    "s.tf"
   ],
   "metadata": {
    "collapsed": false,
    "pycharm": {
     "name": "#%%\n"
    }
   }
  },
  {
   "cell_type": "code",
   "execution_count": 19,
   "outputs": [
    {
     "data": {
      "text/plain": "{'其': 3.536116699561526,\n '实': 3.536116699561526,\n '故': 3.536116699561526,\n '事': 3.536116699561526,\n '本': 3.536116699561526,\n '来': 3.536116699561526,\n '真': 3.536116699561526,\n '的': 2.649209701079277,\n '只': 3.536116699561526,\n '值': 3.536116699561526,\n '三': 3.536116699561526,\n '星': 3.005682604407159,\n '当': 3.536116699561526,\n '初': 3.536116699561526,\n '中': 3.536116699561526,\n '篇': 3.536116699561526,\n '就': 3.005682604407159,\n '足': 3.536116699561526,\n '够': 3.536116699561526,\n '了': 3.005682604407159,\n '但': 3.536116699561526,\n '是': 3.536116699561526,\n '啊': 3.536116699561526,\n '看': 3.536116699561526,\n '到': 3.536116699561526,\n '最': 3.536116699561526,\n '后': 3.536116699561526,\n '我': 3.536116699561526,\n '又': 3.536116699561526,\n '一': 3.005682604407159,\n '次': 3.536116699561526,\n '被': 3.536116699561526,\n '东': 3.536116699561526,\n '野': 3.536116699561526,\n '叔': 3.536116699561526,\n '反': 3.536116699561526,\n '战': 3.536116699561526,\n '思': 3.536116699561526,\n '想': 3.536116699561526,\n '打': 3.536116699561526,\n '动': 3.536116699561526,\n '所': 3.536116699561526,\n '以': 3.536116699561526,\n '加': 3.536116699561526,\n '多': 3.536116699561526,\n '吧': 3.536116699561526}"
     },
     "execution_count": 19,
     "metadata": {},
     "output_type": "execute_result"
    }
   ],
   "source": [
    "s.idf"
   ],
   "metadata": {
    "collapsed": false,
    "pycharm": {
     "name": "#%%\n"
    }
   }
  },
  {
   "cell_type": "code",
   "execution_count": null,
   "outputs": [],
   "source": [],
   "metadata": {
    "collapsed": false,
    "pycharm": {
     "name": "#%%\n"
    }
   }
  }
 ],
 "metadata": {
  "kernelspec": {
   "name": "python36_kernel",
   "language": "python",
   "display_name": "python36_Kernel"
  },
  "language_info": {
   "codemirror_mode": {
    "name": "ipython",
    "version": 2
   },
   "file_extension": ".py",
   "mimetype": "text/x-python",
   "name": "python",
   "nbconvert_exporter": "python",
   "pygments_lexer": "ipython2",
   "version": "2.7.6"
  }
 },
 "nbformat": 4,
 "nbformat_minor": 0
}