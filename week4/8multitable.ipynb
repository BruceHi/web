{
 "cells": [
  {
   "cell_type": "code",
   "execution_count": 1,
   "metadata": {
    "collapsed": true
   },
   "outputs": [],
   "source": [
    "import pandas as pd\n",
    "import numpy as np"
   ]
  },
  {
   "cell_type": "code",
   "execution_count": 2,
   "outputs": [],
   "source": [
    "group = ['x','y','z']\n",
    "data1 = pd.DataFrame({\n",
    "    \"group\":[group[x] for x in np.random.randint(0,len(group),10)] ,\n",
    "    \"age\":np.random.randint(15,50,10)\n",
    "    })\n",
    "\n",
    "data2 = pd.DataFrame({\n",
    "    \"group\":[group[x] for x in np.random.randint(0,len(group),10)] ,\n",
    "    \"salary\":np.random.randint(5,50,10),\n",
    "    })\n",
    "\n",
    "data3 = pd.DataFrame({\n",
    "    \"group\":[group[x] for x in np.random.randint(0,len(group),10)] ,\n",
    "    \"age\":np.random.randint(15,50,10),\n",
    "    \"salary\":np.random.randint(5,50,10),\n",
    "    })"
   ],
   "metadata": {
    "collapsed": false,
    "pycharm": {
     "name": "#%%\n"
    }
   }
  },
  {
   "cell_type": "code",
   "execution_count": 3,
   "outputs": [
    {
     "name": "stdout",
     "output_type": "stream",
     "text": [
      "  group  age\n",
      "0     x   19\n",
      "1     x   18\n",
      "2     z   27\n",
      "3     x   32\n",
      "4     y   43\n",
      "5     y   40\n",
      "6     y   26\n",
      "7     x   18\n",
      "8     y   20\n",
      "9     x   23\n",
      "  group  salary\n",
      "0     z      10\n",
      "1     y      32\n",
      "2     x      23\n",
      "3     z      10\n",
      "4     z      47\n",
      "5     y       6\n",
      "6     x      27\n",
      "7     x      37\n",
      "8     y      27\n",
      "9     z      41\n",
      "  group  age  salary\n",
      "0     y   20      34\n",
      "1     z   20      24\n",
      "2     x   15      19\n",
      "3     z   20      43\n",
      "4     x   42      48\n",
      "5     y   27      43\n",
      "6     y   39      28\n",
      "7     z   16      24\n",
      "8     x   33      13\n",
      "9     x   41       9\n"
     ]
    }
   ],
   "source": [
    "print(data1)\n",
    "print(data2)\n",
    "print(data3)"
   ],
   "metadata": {
    "collapsed": false,
    "pycharm": {
     "name": "#%%\n"
    }
   }
  },
  {
   "cell_type": "code",
   "execution_count": 4,
   "outputs": [
    {
     "data": {
      "text/plain": "   group  age  salary\n0      x   19      23\n1      x   19      27\n2      x   19      37\n3      x   18      23\n4      x   18      27\n5      x   18      37\n6      x   32      23\n7      x   32      27\n8      x   32      37\n9      x   18      23\n10     x   18      27\n11     x   18      37\n12     x   23      23\n13     x   23      27\n14     x   23      37\n15     z   27      10\n16     z   27      10\n17     z   27      47\n18     z   27      41\n19     y   43      32\n20     y   43       6\n21     y   43      27\n22     y   40      32\n23     y   40       6\n24     y   40      27\n25     y   26      32\n26     y   26       6\n27     y   26      27\n28     y   20      32\n29     y   20       6\n30     y   20      27",
      "text/html": "<div>\n<style scoped>\n    .dataframe tbody tr th:only-of-type {\n        vertical-align: middle;\n    }\n\n    .dataframe tbody tr th {\n        vertical-align: top;\n    }\n\n    .dataframe thead th {\n        text-align: right;\n    }\n</style>\n<table border=\"1\" class=\"dataframe\">\n  <thead>\n    <tr style=\"text-align: right;\">\n      <th></th>\n      <th>group</th>\n      <th>age</th>\n      <th>salary</th>\n    </tr>\n  </thead>\n  <tbody>\n    <tr>\n      <th>0</th>\n      <td>x</td>\n      <td>19</td>\n      <td>23</td>\n    </tr>\n    <tr>\n      <th>1</th>\n      <td>x</td>\n      <td>19</td>\n      <td>27</td>\n    </tr>\n    <tr>\n      <th>2</th>\n      <td>x</td>\n      <td>19</td>\n      <td>37</td>\n    </tr>\n    <tr>\n      <th>3</th>\n      <td>x</td>\n      <td>18</td>\n      <td>23</td>\n    </tr>\n    <tr>\n      <th>4</th>\n      <td>x</td>\n      <td>18</td>\n      <td>27</td>\n    </tr>\n    <tr>\n      <th>5</th>\n      <td>x</td>\n      <td>18</td>\n      <td>37</td>\n    </tr>\n    <tr>\n      <th>6</th>\n      <td>x</td>\n      <td>32</td>\n      <td>23</td>\n    </tr>\n    <tr>\n      <th>7</th>\n      <td>x</td>\n      <td>32</td>\n      <td>27</td>\n    </tr>\n    <tr>\n      <th>8</th>\n      <td>x</td>\n      <td>32</td>\n      <td>37</td>\n    </tr>\n    <tr>\n      <th>9</th>\n      <td>x</td>\n      <td>18</td>\n      <td>23</td>\n    </tr>\n    <tr>\n      <th>10</th>\n      <td>x</td>\n      <td>18</td>\n      <td>27</td>\n    </tr>\n    <tr>\n      <th>11</th>\n      <td>x</td>\n      <td>18</td>\n      <td>37</td>\n    </tr>\n    <tr>\n      <th>12</th>\n      <td>x</td>\n      <td>23</td>\n      <td>23</td>\n    </tr>\n    <tr>\n      <th>13</th>\n      <td>x</td>\n      <td>23</td>\n      <td>27</td>\n    </tr>\n    <tr>\n      <th>14</th>\n      <td>x</td>\n      <td>23</td>\n      <td>37</td>\n    </tr>\n    <tr>\n      <th>15</th>\n      <td>z</td>\n      <td>27</td>\n      <td>10</td>\n    </tr>\n    <tr>\n      <th>16</th>\n      <td>z</td>\n      <td>27</td>\n      <td>10</td>\n    </tr>\n    <tr>\n      <th>17</th>\n      <td>z</td>\n      <td>27</td>\n      <td>47</td>\n    </tr>\n    <tr>\n      <th>18</th>\n      <td>z</td>\n      <td>27</td>\n      <td>41</td>\n    </tr>\n    <tr>\n      <th>19</th>\n      <td>y</td>\n      <td>43</td>\n      <td>32</td>\n    </tr>\n    <tr>\n      <th>20</th>\n      <td>y</td>\n      <td>43</td>\n      <td>6</td>\n    </tr>\n    <tr>\n      <th>21</th>\n      <td>y</td>\n      <td>43</td>\n      <td>27</td>\n    </tr>\n    <tr>\n      <th>22</th>\n      <td>y</td>\n      <td>40</td>\n      <td>32</td>\n    </tr>\n    <tr>\n      <th>23</th>\n      <td>y</td>\n      <td>40</td>\n      <td>6</td>\n    </tr>\n    <tr>\n      <th>24</th>\n      <td>y</td>\n      <td>40</td>\n      <td>27</td>\n    </tr>\n    <tr>\n      <th>25</th>\n      <td>y</td>\n      <td>26</td>\n      <td>32</td>\n    </tr>\n    <tr>\n      <th>26</th>\n      <td>y</td>\n      <td>26</td>\n      <td>6</td>\n    </tr>\n    <tr>\n      <th>27</th>\n      <td>y</td>\n      <td>26</td>\n      <td>27</td>\n    </tr>\n    <tr>\n      <th>28</th>\n      <td>y</td>\n      <td>20</td>\n      <td>32</td>\n    </tr>\n    <tr>\n      <th>29</th>\n      <td>y</td>\n      <td>20</td>\n      <td>6</td>\n    </tr>\n    <tr>\n      <th>30</th>\n      <td>y</td>\n      <td>20</td>\n      <td>27</td>\n    </tr>\n  </tbody>\n</table>\n</div>"
     },
     "execution_count": 4,
     "metadata": {},
     "output_type": "execute_result"
    }
   ],
   "source": [
    "pd.merge(data1, data2)"
   ],
   "metadata": {
    "collapsed": false,
    "pycharm": {
     "name": "#%%\n"
    }
   }
  },
  {
   "cell_type": "code",
   "execution_count": 5,
   "outputs": [
    {
     "data": {
      "text/plain": "   group  age  salary_x  salary_y\n0      y   20        34        32\n1      y   20        34         6\n2      y   20        34        27\n3      y   27        43        32\n4      y   27        43         6\n5      y   27        43        27\n6      y   39        28        32\n7      y   39        28         6\n8      y   39        28        27\n9      z   20        24        10\n10     z   20        24        10\n11     z   20        24        47\n12     z   20        24        41\n13     z   20        43        10\n14     z   20        43        10\n15     z   20        43        47\n16     z   20        43        41\n17     z   16        24        10\n18     z   16        24        10\n19     z   16        24        47\n20     z   16        24        41\n21     x   15        19        23\n22     x   15        19        27\n23     x   15        19        37\n24     x   42        48        23\n25     x   42        48        27\n26     x   42        48        37\n27     x   33        13        23\n28     x   33        13        27\n29     x   33        13        37\n30     x   41         9        23\n31     x   41         9        27\n32     x   41         9        37",
      "text/html": "<div>\n<style scoped>\n    .dataframe tbody tr th:only-of-type {\n        vertical-align: middle;\n    }\n\n    .dataframe tbody tr th {\n        vertical-align: top;\n    }\n\n    .dataframe thead th {\n        text-align: right;\n    }\n</style>\n<table border=\"1\" class=\"dataframe\">\n  <thead>\n    <tr style=\"text-align: right;\">\n      <th></th>\n      <th>group</th>\n      <th>age</th>\n      <th>salary_x</th>\n      <th>salary_y</th>\n    </tr>\n  </thead>\n  <tbody>\n    <tr>\n      <th>0</th>\n      <td>y</td>\n      <td>20</td>\n      <td>34</td>\n      <td>32</td>\n    </tr>\n    <tr>\n      <th>1</th>\n      <td>y</td>\n      <td>20</td>\n      <td>34</td>\n      <td>6</td>\n    </tr>\n    <tr>\n      <th>2</th>\n      <td>y</td>\n      <td>20</td>\n      <td>34</td>\n      <td>27</td>\n    </tr>\n    <tr>\n      <th>3</th>\n      <td>y</td>\n      <td>27</td>\n      <td>43</td>\n      <td>32</td>\n    </tr>\n    <tr>\n      <th>4</th>\n      <td>y</td>\n      <td>27</td>\n      <td>43</td>\n      <td>6</td>\n    </tr>\n    <tr>\n      <th>5</th>\n      <td>y</td>\n      <td>27</td>\n      <td>43</td>\n      <td>27</td>\n    </tr>\n    <tr>\n      <th>6</th>\n      <td>y</td>\n      <td>39</td>\n      <td>28</td>\n      <td>32</td>\n    </tr>\n    <tr>\n      <th>7</th>\n      <td>y</td>\n      <td>39</td>\n      <td>28</td>\n      <td>6</td>\n    </tr>\n    <tr>\n      <th>8</th>\n      <td>y</td>\n      <td>39</td>\n      <td>28</td>\n      <td>27</td>\n    </tr>\n    <tr>\n      <th>9</th>\n      <td>z</td>\n      <td>20</td>\n      <td>24</td>\n      <td>10</td>\n    </tr>\n    <tr>\n      <th>10</th>\n      <td>z</td>\n      <td>20</td>\n      <td>24</td>\n      <td>10</td>\n    </tr>\n    <tr>\n      <th>11</th>\n      <td>z</td>\n      <td>20</td>\n      <td>24</td>\n      <td>47</td>\n    </tr>\n    <tr>\n      <th>12</th>\n      <td>z</td>\n      <td>20</td>\n      <td>24</td>\n      <td>41</td>\n    </tr>\n    <tr>\n      <th>13</th>\n      <td>z</td>\n      <td>20</td>\n      <td>43</td>\n      <td>10</td>\n    </tr>\n    <tr>\n      <th>14</th>\n      <td>z</td>\n      <td>20</td>\n      <td>43</td>\n      <td>10</td>\n    </tr>\n    <tr>\n      <th>15</th>\n      <td>z</td>\n      <td>20</td>\n      <td>43</td>\n      <td>47</td>\n    </tr>\n    <tr>\n      <th>16</th>\n      <td>z</td>\n      <td>20</td>\n      <td>43</td>\n      <td>41</td>\n    </tr>\n    <tr>\n      <th>17</th>\n      <td>z</td>\n      <td>16</td>\n      <td>24</td>\n      <td>10</td>\n    </tr>\n    <tr>\n      <th>18</th>\n      <td>z</td>\n      <td>16</td>\n      <td>24</td>\n      <td>10</td>\n    </tr>\n    <tr>\n      <th>19</th>\n      <td>z</td>\n      <td>16</td>\n      <td>24</td>\n      <td>47</td>\n    </tr>\n    <tr>\n      <th>20</th>\n      <td>z</td>\n      <td>16</td>\n      <td>24</td>\n      <td>41</td>\n    </tr>\n    <tr>\n      <th>21</th>\n      <td>x</td>\n      <td>15</td>\n      <td>19</td>\n      <td>23</td>\n    </tr>\n    <tr>\n      <th>22</th>\n      <td>x</td>\n      <td>15</td>\n      <td>19</td>\n      <td>27</td>\n    </tr>\n    <tr>\n      <th>23</th>\n      <td>x</td>\n      <td>15</td>\n      <td>19</td>\n      <td>37</td>\n    </tr>\n    <tr>\n      <th>24</th>\n      <td>x</td>\n      <td>42</td>\n      <td>48</td>\n      <td>23</td>\n    </tr>\n    <tr>\n      <th>25</th>\n      <td>x</td>\n      <td>42</td>\n      <td>48</td>\n      <td>27</td>\n    </tr>\n    <tr>\n      <th>26</th>\n      <td>x</td>\n      <td>42</td>\n      <td>48</td>\n      <td>37</td>\n    </tr>\n    <tr>\n      <th>27</th>\n      <td>x</td>\n      <td>33</td>\n      <td>13</td>\n      <td>23</td>\n    </tr>\n    <tr>\n      <th>28</th>\n      <td>x</td>\n      <td>33</td>\n      <td>13</td>\n      <td>27</td>\n    </tr>\n    <tr>\n      <th>29</th>\n      <td>x</td>\n      <td>33</td>\n      <td>13</td>\n      <td>37</td>\n    </tr>\n    <tr>\n      <th>30</th>\n      <td>x</td>\n      <td>41</td>\n      <td>9</td>\n      <td>23</td>\n    </tr>\n    <tr>\n      <th>31</th>\n      <td>x</td>\n      <td>41</td>\n      <td>9</td>\n      <td>27</td>\n    </tr>\n    <tr>\n      <th>32</th>\n      <td>x</td>\n      <td>41</td>\n      <td>9</td>\n      <td>37</td>\n    </tr>\n  </tbody>\n</table>\n</div>"
     },
     "execution_count": 5,
     "metadata": {},
     "output_type": "execute_result"
    }
   ],
   "source": [
    "pd.merge(data3, data2, on='group')"
   ],
   "metadata": {
    "collapsed": false,
    "pycharm": {
     "name": "#%%\n"
    }
   }
  },
  {
   "cell_type": "code",
   "execution_count": 6,
   "outputs": [
    {
     "data": {
      "text/plain": "Empty DataFrame\nColumns: [group, age, salary]\nIndex: []",
      "text/html": "<div>\n<style scoped>\n    .dataframe tbody tr th:only-of-type {\n        vertical-align: middle;\n    }\n\n    .dataframe tbody tr th {\n        vertical-align: top;\n    }\n\n    .dataframe thead th {\n        text-align: right;\n    }\n</style>\n<table border=\"1\" class=\"dataframe\">\n  <thead>\n    <tr style=\"text-align: right;\">\n      <th></th>\n      <th>group</th>\n      <th>age</th>\n      <th>salary</th>\n    </tr>\n  </thead>\n  <tbody>\n  </tbody>\n</table>\n</div>"
     },
     "execution_count": 6,
     "metadata": {},
     "output_type": "execute_result"
    }
   ],
   "source": [
    "pd.merge(data3, data2)"
   ],
   "metadata": {
    "collapsed": false,
    "pycharm": {
     "name": "#%%\n"
    }
   }
  },
  {
   "cell_type": "code",
   "execution_count": 7,
   "outputs": [
    {
     "data": {
      "text/plain": "  group_x  age  salary_x group_y  salary_y\n0       y   27        43       x        27\n1       y   27        43       y        27\n2       x   41         9       z        41",
      "text/html": "<div>\n<style scoped>\n    .dataframe tbody tr th:only-of-type {\n        vertical-align: middle;\n    }\n\n    .dataframe tbody tr th {\n        vertical-align: top;\n    }\n\n    .dataframe thead th {\n        text-align: right;\n    }\n</style>\n<table border=\"1\" class=\"dataframe\">\n  <thead>\n    <tr style=\"text-align: right;\">\n      <th></th>\n      <th>group_x</th>\n      <th>age</th>\n      <th>salary_x</th>\n      <th>group_y</th>\n      <th>salary_y</th>\n    </tr>\n  </thead>\n  <tbody>\n    <tr>\n      <th>0</th>\n      <td>y</td>\n      <td>27</td>\n      <td>43</td>\n      <td>x</td>\n      <td>27</td>\n    </tr>\n    <tr>\n      <th>1</th>\n      <td>y</td>\n      <td>27</td>\n      <td>43</td>\n      <td>y</td>\n      <td>27</td>\n    </tr>\n    <tr>\n      <th>2</th>\n      <td>x</td>\n      <td>41</td>\n      <td>9</td>\n      <td>z</td>\n      <td>41</td>\n    </tr>\n  </tbody>\n</table>\n</div>"
     },
     "execution_count": 7,
     "metadata": {},
     "output_type": "execute_result"
    }
   ],
   "source": [
    "pd.merge(data3, data2, left_on='age', right_on='salary')"
   ],
   "metadata": {
    "collapsed": false,
    "pycharm": {
     "name": "#%%\n"
    }
   }
  },
  {
   "cell_type": "code",
   "execution_count": 8,
   "outputs": [
    {
     "data": {
      "text/plain": "   group  age  salary_x  salary_y\n0      y   20        34        32\n1      y   20        34         6\n2      y   20        34        27\n3      y   27        43        32\n4      y   27        43         6\n5      y   27        43        27\n6      y   39        28        32\n7      y   39        28         6\n8      y   39        28        27\n9      z   20        24        10\n10     z   20        24        10\n11     z   20        24        47\n12     z   20        24        41\n13     z   20        43        10\n14     z   20        43        10\n15     z   20        43        47\n16     z   20        43        41\n17     z   16        24        10\n18     z   16        24        10\n19     z   16        24        47\n20     z   16        24        41\n21     x   15        19        23\n22     x   15        19        27\n23     x   15        19        37\n24     x   42        48        23\n25     x   42        48        27\n26     x   42        48        37\n27     x   33        13        23\n28     x   33        13        27\n29     x   33        13        37\n30     x   41         9        23\n31     x   41         9        27\n32     x   41         9        37",
      "text/html": "<div>\n<style scoped>\n    .dataframe tbody tr th:only-of-type {\n        vertical-align: middle;\n    }\n\n    .dataframe tbody tr th {\n        vertical-align: top;\n    }\n\n    .dataframe thead th {\n        text-align: right;\n    }\n</style>\n<table border=\"1\" class=\"dataframe\">\n  <thead>\n    <tr style=\"text-align: right;\">\n      <th></th>\n      <th>group</th>\n      <th>age</th>\n      <th>salary_x</th>\n      <th>salary_y</th>\n    </tr>\n  </thead>\n  <tbody>\n    <tr>\n      <th>0</th>\n      <td>y</td>\n      <td>20</td>\n      <td>34</td>\n      <td>32</td>\n    </tr>\n    <tr>\n      <th>1</th>\n      <td>y</td>\n      <td>20</td>\n      <td>34</td>\n      <td>6</td>\n    </tr>\n    <tr>\n      <th>2</th>\n      <td>y</td>\n      <td>20</td>\n      <td>34</td>\n      <td>27</td>\n    </tr>\n    <tr>\n      <th>3</th>\n      <td>y</td>\n      <td>27</td>\n      <td>43</td>\n      <td>32</td>\n    </tr>\n    <tr>\n      <th>4</th>\n      <td>y</td>\n      <td>27</td>\n      <td>43</td>\n      <td>6</td>\n    </tr>\n    <tr>\n      <th>5</th>\n      <td>y</td>\n      <td>27</td>\n      <td>43</td>\n      <td>27</td>\n    </tr>\n    <tr>\n      <th>6</th>\n      <td>y</td>\n      <td>39</td>\n      <td>28</td>\n      <td>32</td>\n    </tr>\n    <tr>\n      <th>7</th>\n      <td>y</td>\n      <td>39</td>\n      <td>28</td>\n      <td>6</td>\n    </tr>\n    <tr>\n      <th>8</th>\n      <td>y</td>\n      <td>39</td>\n      <td>28</td>\n      <td>27</td>\n    </tr>\n    <tr>\n      <th>9</th>\n      <td>z</td>\n      <td>20</td>\n      <td>24</td>\n      <td>10</td>\n    </tr>\n    <tr>\n      <th>10</th>\n      <td>z</td>\n      <td>20</td>\n      <td>24</td>\n      <td>10</td>\n    </tr>\n    <tr>\n      <th>11</th>\n      <td>z</td>\n      <td>20</td>\n      <td>24</td>\n      <td>47</td>\n    </tr>\n    <tr>\n      <th>12</th>\n      <td>z</td>\n      <td>20</td>\n      <td>24</td>\n      <td>41</td>\n    </tr>\n    <tr>\n      <th>13</th>\n      <td>z</td>\n      <td>20</td>\n      <td>43</td>\n      <td>10</td>\n    </tr>\n    <tr>\n      <th>14</th>\n      <td>z</td>\n      <td>20</td>\n      <td>43</td>\n      <td>10</td>\n    </tr>\n    <tr>\n      <th>15</th>\n      <td>z</td>\n      <td>20</td>\n      <td>43</td>\n      <td>47</td>\n    </tr>\n    <tr>\n      <th>16</th>\n      <td>z</td>\n      <td>20</td>\n      <td>43</td>\n      <td>41</td>\n    </tr>\n    <tr>\n      <th>17</th>\n      <td>z</td>\n      <td>16</td>\n      <td>24</td>\n      <td>10</td>\n    </tr>\n    <tr>\n      <th>18</th>\n      <td>z</td>\n      <td>16</td>\n      <td>24</td>\n      <td>10</td>\n    </tr>\n    <tr>\n      <th>19</th>\n      <td>z</td>\n      <td>16</td>\n      <td>24</td>\n      <td>47</td>\n    </tr>\n    <tr>\n      <th>20</th>\n      <td>z</td>\n      <td>16</td>\n      <td>24</td>\n      <td>41</td>\n    </tr>\n    <tr>\n      <th>21</th>\n      <td>x</td>\n      <td>15</td>\n      <td>19</td>\n      <td>23</td>\n    </tr>\n    <tr>\n      <th>22</th>\n      <td>x</td>\n      <td>15</td>\n      <td>19</td>\n      <td>27</td>\n    </tr>\n    <tr>\n      <th>23</th>\n      <td>x</td>\n      <td>15</td>\n      <td>19</td>\n      <td>37</td>\n    </tr>\n    <tr>\n      <th>24</th>\n      <td>x</td>\n      <td>42</td>\n      <td>48</td>\n      <td>23</td>\n    </tr>\n    <tr>\n      <th>25</th>\n      <td>x</td>\n      <td>42</td>\n      <td>48</td>\n      <td>27</td>\n    </tr>\n    <tr>\n      <th>26</th>\n      <td>x</td>\n      <td>42</td>\n      <td>48</td>\n      <td>37</td>\n    </tr>\n    <tr>\n      <th>27</th>\n      <td>x</td>\n      <td>33</td>\n      <td>13</td>\n      <td>23</td>\n    </tr>\n    <tr>\n      <th>28</th>\n      <td>x</td>\n      <td>33</td>\n      <td>13</td>\n      <td>27</td>\n    </tr>\n    <tr>\n      <th>29</th>\n      <td>x</td>\n      <td>33</td>\n      <td>13</td>\n      <td>37</td>\n    </tr>\n    <tr>\n      <th>30</th>\n      <td>x</td>\n      <td>41</td>\n      <td>9</td>\n      <td>23</td>\n    </tr>\n    <tr>\n      <th>31</th>\n      <td>x</td>\n      <td>41</td>\n      <td>9</td>\n      <td>27</td>\n    </tr>\n    <tr>\n      <th>32</th>\n      <td>x</td>\n      <td>41</td>\n      <td>9</td>\n      <td>37</td>\n    </tr>\n  </tbody>\n</table>\n</div>"
     },
     "execution_count": 8,
     "metadata": {},
     "output_type": "execute_result"
    }
   ],
   "source": [
    "pd.merge(data3, data2, on='group', how='inner')"
   ],
   "metadata": {
    "collapsed": false,
    "pycharm": {
     "name": "#%%\n"
    }
   }
  },
  {
   "cell_type": "code",
   "execution_count": 9,
   "outputs": [
    {
     "data": {
      "text/plain": "  group   age  salary\n0     x  19.0     NaN\n1     x  18.0     NaN\n2     z  27.0     NaN\n3     x  32.0     NaN\n4     y  43.0     NaN\n5     y  40.0     NaN\n6     y  26.0     NaN\n7     x  18.0     NaN\n8     y  20.0     NaN\n9     x  23.0     NaN\n0     z   NaN    10.0\n1     y   NaN    32.0\n2     x   NaN    23.0\n3     z   NaN    10.0\n4     z   NaN    47.0\n5     y   NaN     6.0\n6     x   NaN    27.0\n7     x   NaN    37.0\n8     y   NaN    27.0\n9     z   NaN    41.0",
      "text/html": "<div>\n<style scoped>\n    .dataframe tbody tr th:only-of-type {\n        vertical-align: middle;\n    }\n\n    .dataframe tbody tr th {\n        vertical-align: top;\n    }\n\n    .dataframe thead th {\n        text-align: right;\n    }\n</style>\n<table border=\"1\" class=\"dataframe\">\n  <thead>\n    <tr style=\"text-align: right;\">\n      <th></th>\n      <th>group</th>\n      <th>age</th>\n      <th>salary</th>\n    </tr>\n  </thead>\n  <tbody>\n    <tr>\n      <th>0</th>\n      <td>x</td>\n      <td>19.0</td>\n      <td>NaN</td>\n    </tr>\n    <tr>\n      <th>1</th>\n      <td>x</td>\n      <td>18.0</td>\n      <td>NaN</td>\n    </tr>\n    <tr>\n      <th>2</th>\n      <td>z</td>\n      <td>27.0</td>\n      <td>NaN</td>\n    </tr>\n    <tr>\n      <th>3</th>\n      <td>x</td>\n      <td>32.0</td>\n      <td>NaN</td>\n    </tr>\n    <tr>\n      <th>4</th>\n      <td>y</td>\n      <td>43.0</td>\n      <td>NaN</td>\n    </tr>\n    <tr>\n      <th>5</th>\n      <td>y</td>\n      <td>40.0</td>\n      <td>NaN</td>\n    </tr>\n    <tr>\n      <th>6</th>\n      <td>y</td>\n      <td>26.0</td>\n      <td>NaN</td>\n    </tr>\n    <tr>\n      <th>7</th>\n      <td>x</td>\n      <td>18.0</td>\n      <td>NaN</td>\n    </tr>\n    <tr>\n      <th>8</th>\n      <td>y</td>\n      <td>20.0</td>\n      <td>NaN</td>\n    </tr>\n    <tr>\n      <th>9</th>\n      <td>x</td>\n      <td>23.0</td>\n      <td>NaN</td>\n    </tr>\n    <tr>\n      <th>0</th>\n      <td>z</td>\n      <td>NaN</td>\n      <td>10.0</td>\n    </tr>\n    <tr>\n      <th>1</th>\n      <td>y</td>\n      <td>NaN</td>\n      <td>32.0</td>\n    </tr>\n    <tr>\n      <th>2</th>\n      <td>x</td>\n      <td>NaN</td>\n      <td>23.0</td>\n    </tr>\n    <tr>\n      <th>3</th>\n      <td>z</td>\n      <td>NaN</td>\n      <td>10.0</td>\n    </tr>\n    <tr>\n      <th>4</th>\n      <td>z</td>\n      <td>NaN</td>\n      <td>47.0</td>\n    </tr>\n    <tr>\n      <th>5</th>\n      <td>y</td>\n      <td>NaN</td>\n      <td>6.0</td>\n    </tr>\n    <tr>\n      <th>6</th>\n      <td>x</td>\n      <td>NaN</td>\n      <td>27.0</td>\n    </tr>\n    <tr>\n      <th>7</th>\n      <td>x</td>\n      <td>NaN</td>\n      <td>37.0</td>\n    </tr>\n    <tr>\n      <th>8</th>\n      <td>y</td>\n      <td>NaN</td>\n      <td>27.0</td>\n    </tr>\n    <tr>\n      <th>9</th>\n      <td>z</td>\n      <td>NaN</td>\n      <td>41.0</td>\n    </tr>\n  </tbody>\n</table>\n</div>"
     },
     "execution_count": 9,
     "metadata": {},
     "output_type": "execute_result"
    }
   ],
   "source": [],
   "metadata": {
    "collapsed": false,
    "pycharm": {
     "name": "#%%\n"
    }
   }
  },
  {
   "cell_type": "code",
   "execution_count": null,
   "outputs": [],
   "source": [],
   "metadata": {
    "collapsed": false,
    "pycharm": {
     "name": "#%%\n"
    }
   }
  }
 ],
 "metadata": {
  "kernelspec": {
   "name": "python36_kernel",
   "language": "python",
   "display_name": "python36_Kernel"
  },
  "language_info": {
   "codemirror_mode": {
    "name": "ipython",
    "version": 2
   },
   "file_extension": ".py",
   "mimetype": "text/x-python",
   "name": "python",
   "nbconvert_exporter": "python",
   "pygments_lexer": "ipython2",
   "version": "2.7.6"
  }
 },
 "nbformat": 4,
 "nbformat_minor": 0
}