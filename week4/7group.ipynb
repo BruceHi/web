{
 "cells": [
  {
   "cell_type": "code",
   "execution_count": 1,
   "metadata": {
    "collapsed": true
   },
   "outputs": [],
   "source": [
    "import pandas as pd\n",
    "import numpy as np"
   ]
  },
  {
   "cell_type": "code",
   "execution_count": 2,
   "outputs": [
    {
     "data": {
      "text/plain": "     account type  Jan  Feb  Mar\n0  Jones LLC    a  150  200  140\n1   Alpha Co    b  200  210  215\n2   Blue Inc    a   50   90   95",
      "text/html": "<div>\n<style scoped>\n    .dataframe tbody tr th:only-of-type {\n        vertical-align: middle;\n    }\n\n    .dataframe tbody tr th {\n        vertical-align: top;\n    }\n\n    .dataframe thead th {\n        text-align: right;\n    }\n</style>\n<table border=\"1\" class=\"dataframe\">\n  <thead>\n    <tr style=\"text-align: right;\">\n      <th></th>\n      <th>account</th>\n      <th>type</th>\n      <th>Jan</th>\n      <th>Feb</th>\n      <th>Mar</th>\n    </tr>\n  </thead>\n  <tbody>\n    <tr>\n      <th>0</th>\n      <td>Jones LLC</td>\n      <td>a</td>\n      <td>150</td>\n      <td>200</td>\n      <td>140</td>\n    </tr>\n    <tr>\n      <th>1</th>\n      <td>Alpha Co</td>\n      <td>b</td>\n      <td>200</td>\n      <td>210</td>\n      <td>215</td>\n    </tr>\n    <tr>\n      <th>2</th>\n      <td>Blue Inc</td>\n      <td>a</td>\n      <td>50</td>\n      <td>90</td>\n      <td>95</td>\n    </tr>\n  </tbody>\n</table>\n</div>"
     },
     "execution_count": 2,
     "metadata": {},
     "output_type": "execute_result"
    }
   ],
   "source": [
    "# 聚合\n",
    "sales = [{'account': 'Jones LLC','type':'a', 'Jan': 150, 'Feb': 200, 'Mar': 140},\n",
    "         {'account': 'Alpha Co','type':'b',  'Jan': 200, 'Feb': 210, 'Mar': 215},\n",
    "         {'account': 'Blue Inc','type':'a',  'Jan': 50,  'Feb': 90,  'Mar': 95 },\n",
    "         ]\n",
    "df = pd.DataFrame(sales)\n",
    "df"
   ],
   "metadata": {
    "collapsed": false,
    "pycharm": {
     "name": "#%%\n"
    }
   }
  },
  {
   "cell_type": "code",
   "execution_count": 3,
   "outputs": [
    {
     "data": {
      "text/plain": "<pandas.core.groupby.generic.DataFrameGroupBy object at 0x000002D56E9B7208>"
     },
     "execution_count": 3,
     "metadata": {},
     "output_type": "execute_result"
    }
   ],
   "source": [
    "# generic.DataFrameGroupBy object\n",
    "# 按 type 分组\n",
    "df.groupby('type')"
   ],
   "metadata": {
    "collapsed": false,
    "pycharm": {
     "name": "#%%\n"
    }
   }
  },
  {
   "cell_type": "code",
   "execution_count": 4,
   "outputs": [
    {
     "data": {
      "text/plain": "{'a': [0, 2], 'b': [1]}"
     },
     "execution_count": 4,
     "metadata": {},
     "output_type": "execute_result"
    }
   ],
   "source": [
    "df.groupby('type').groups"
   ],
   "metadata": {
    "collapsed": false,
    "pycharm": {
     "name": "#%%\n"
    }
   }
  },
  {
   "cell_type": "code",
   "execution_count": 5,
   "outputs": [
    {
     "name": "stdout",
     "output_type": "stream",
     "text": [
      "a\n",
      "     account type  Jan  Feb  Mar\n",
      "0  Jones LLC    a  150  200  140\n",
      "2   Blue Inc    a   50   90   95\n",
      "b\n",
      "    account type  Jan  Feb  Mar\n",
      "1  Alpha Co    b  200  210  215\n"
     ]
    }
   ],
   "source": [
    "for a, b in df.groupby('type'):\n",
    "    print(a)\n",
    "    print(b)"
   ],
   "metadata": {
    "collapsed": false,
    "pycharm": {
     "name": "#%%\n"
    }
   }
  },
  {
   "cell_type": "code",
   "execution_count": 6,
   "outputs": [
    {
     "data": {
      "text/plain": "      account  Jan  Feb  Mar\ntype                        \na           2    2    2    2\nb           1    1    1    1",
      "text/html": "<div>\n<style scoped>\n    .dataframe tbody tr th:only-of-type {\n        vertical-align: middle;\n    }\n\n    .dataframe tbody tr th {\n        vertical-align: top;\n    }\n\n    .dataframe thead th {\n        text-align: right;\n    }\n</style>\n<table border=\"1\" class=\"dataframe\">\n  <thead>\n    <tr style=\"text-align: right;\">\n      <th></th>\n      <th>account</th>\n      <th>Jan</th>\n      <th>Feb</th>\n      <th>Mar</th>\n    </tr>\n    <tr>\n      <th>type</th>\n      <th></th>\n      <th></th>\n      <th></th>\n      <th></th>\n    </tr>\n  </thead>\n  <tbody>\n    <tr>\n      <th>a</th>\n      <td>2</td>\n      <td>2</td>\n      <td>2</td>\n      <td>2</td>\n    </tr>\n    <tr>\n      <th>b</th>\n      <td>1</td>\n      <td>1</td>\n      <td>1</td>\n      <td>1</td>\n    </tr>\n  </tbody>\n</table>\n</div>"
     },
     "execution_count": 6,
     "metadata": {},
     "output_type": "execute_result"
    }
   ],
   "source": [
    "# 聚合后进行统计\n",
    "df.groupby('type').count()"
   ],
   "metadata": {
    "collapsed": false,
    "pycharm": {
     "name": "#%%\n"
    }
   }
  },
  {
   "cell_type": "code",
   "execution_count": 7,
   "outputs": [
    {
     "data": {
      "text/plain": "      type  Feb\ntype           \na        2  290\nb        1  210",
      "text/html": "<div>\n<style scoped>\n    .dataframe tbody tr th:only-of-type {\n        vertical-align: middle;\n    }\n\n    .dataframe tbody tr th {\n        vertical-align: top;\n    }\n\n    .dataframe thead th {\n        text-align: right;\n    }\n</style>\n<table border=\"1\" class=\"dataframe\">\n  <thead>\n    <tr style=\"text-align: right;\">\n      <th></th>\n      <th>type</th>\n      <th>Feb</th>\n    </tr>\n    <tr>\n      <th>type</th>\n      <th></th>\n      <th></th>\n    </tr>\n  </thead>\n  <tbody>\n    <tr>\n      <th>a</th>\n      <td>2</td>\n      <td>290</td>\n    </tr>\n    <tr>\n      <th>b</th>\n      <td>1</td>\n      <td>210</td>\n    </tr>\n  </tbody>\n</table>\n</div>"
     },
     "execution_count": 7,
     "metadata": {},
     "output_type": "execute_result"
    }
   ],
   "source": [
    "# aggregate 合计，后面写几个字段，结构就有几个属性。\n",
    "df.groupby('type').aggregate({'type': 'count', 'Feb': 'sum'})"
   ],
   "metadata": {
    "collapsed": false,
    "pycharm": {
     "name": "#%%\n"
    }
   }
  },
  {
   "cell_type": "code",
   "execution_count": 9,
   "outputs": [
    {
     "data": {
      "text/plain": "  group  salary  age\n0     x      27   37\n1     x       5   16\n2     z      46   41\n3     z       7   36\n4     z      13   24\n5     z      18   46\n6     z      28   43\n7     x      49   16\n8     x       6   22\n9     y      48   15",
      "text/html": "<div>\n<style scoped>\n    .dataframe tbody tr th:only-of-type {\n        vertical-align: middle;\n    }\n\n    .dataframe tbody tr th {\n        vertical-align: top;\n    }\n\n    .dataframe thead th {\n        text-align: right;\n    }\n</style>\n<table border=\"1\" class=\"dataframe\">\n  <thead>\n    <tr style=\"text-align: right;\">\n      <th></th>\n      <th>group</th>\n      <th>salary</th>\n      <th>age</th>\n    </tr>\n  </thead>\n  <tbody>\n    <tr>\n      <th>0</th>\n      <td>x</td>\n      <td>27</td>\n      <td>37</td>\n    </tr>\n    <tr>\n      <th>1</th>\n      <td>x</td>\n      <td>5</td>\n      <td>16</td>\n    </tr>\n    <tr>\n      <th>2</th>\n      <td>z</td>\n      <td>46</td>\n      <td>41</td>\n    </tr>\n    <tr>\n      <th>3</th>\n      <td>z</td>\n      <td>7</td>\n      <td>36</td>\n    </tr>\n    <tr>\n      <th>4</th>\n      <td>z</td>\n      <td>13</td>\n      <td>24</td>\n    </tr>\n    <tr>\n      <th>5</th>\n      <td>z</td>\n      <td>18</td>\n      <td>46</td>\n    </tr>\n    <tr>\n      <th>6</th>\n      <td>z</td>\n      <td>28</td>\n      <td>43</td>\n    </tr>\n    <tr>\n      <th>7</th>\n      <td>x</td>\n      <td>49</td>\n      <td>16</td>\n    </tr>\n    <tr>\n      <th>8</th>\n      <td>x</td>\n      <td>6</td>\n      <td>22</td>\n    </tr>\n    <tr>\n      <th>9</th>\n      <td>y</td>\n      <td>48</td>\n      <td>15</td>\n    </tr>\n  </tbody>\n</table>\n</div>"
     },
     "execution_count": 9,
     "metadata": {},
     "output_type": "execute_result"
    }
   ],
   "source": [
    "group = ['x', 'y', 'z']\n",
    "data = pd.DataFrame({\n",
    "    'group': [group[x] for x in np.random.randint(0, len(group), 10)],\n",
    "    'salary': np.random.randint(5, 50, 10),\n",
    "    'age': np.random.randint(15, 50, 10),\n",
    "})\n",
    "data"
   ],
   "metadata": {
    "collapsed": false,
    "pycharm": {
     "name": "#%%\n"
    }
   }
  },
  {
   "cell_type": "code",
   "execution_count": 10,
   "outputs": [
    {
     "data": {
      "text/plain": "       salary    age\ngroup               \nx       21.75  22.75\ny       48.00  15.00\nz       22.40  38.00",
      "text/html": "<div>\n<style scoped>\n    .dataframe tbody tr th:only-of-type {\n        vertical-align: middle;\n    }\n\n    .dataframe tbody tr th {\n        vertical-align: top;\n    }\n\n    .dataframe thead th {\n        text-align: right;\n    }\n</style>\n<table border=\"1\" class=\"dataframe\">\n  <thead>\n    <tr style=\"text-align: right;\">\n      <th></th>\n      <th>salary</th>\n      <th>age</th>\n    </tr>\n    <tr>\n      <th>group</th>\n      <th></th>\n      <th></th>\n    </tr>\n  </thead>\n  <tbody>\n    <tr>\n      <th>x</th>\n      <td>21.75</td>\n      <td>22.75</td>\n    </tr>\n    <tr>\n      <th>y</th>\n      <td>48.00</td>\n      <td>15.00</td>\n    </tr>\n    <tr>\n      <th>z</th>\n      <td>22.40</td>\n      <td>38.00</td>\n    </tr>\n  </tbody>\n</table>\n</div>"
     },
     "execution_count": 10,
     "metadata": {},
     "output_type": "execute_result"
    }
   ],
   "source": [
    "data.groupby('group').agg('mean')"
   ],
   "metadata": {
    "collapsed": false,
    "pycharm": {
     "name": "#%%\n"
    }
   }
  },
  {
   "cell_type": "code",
   "execution_count": 11,
   "outputs": [
    {
     "data": {
      "text/plain": "       salary    age\ngroup               \nx       21.75  22.75\ny       48.00  15.00\nz       22.40  38.00",
      "text/html": "<div>\n<style scoped>\n    .dataframe tbody tr th:only-of-type {\n        vertical-align: middle;\n    }\n\n    .dataframe tbody tr th {\n        vertical-align: top;\n    }\n\n    .dataframe thead th {\n        text-align: right;\n    }\n</style>\n<table border=\"1\" class=\"dataframe\">\n  <thead>\n    <tr style=\"text-align: right;\">\n      <th></th>\n      <th>salary</th>\n      <th>age</th>\n    </tr>\n    <tr>\n      <th>group</th>\n      <th></th>\n      <th></th>\n    </tr>\n  </thead>\n  <tbody>\n    <tr>\n      <th>x</th>\n      <td>21.75</td>\n      <td>22.75</td>\n    </tr>\n    <tr>\n      <th>y</th>\n      <td>48.00</td>\n      <td>15.00</td>\n    </tr>\n    <tr>\n      <th>z</th>\n      <td>22.40</td>\n      <td>38.00</td>\n    </tr>\n  </tbody>\n</table>\n</div>"
     },
     "execution_count": 11,
     "metadata": {},
     "output_type": "execute_result"
    }
   ],
   "source": [
    "# 聚合之后，然后平均，与上一句结果相同\n",
    "data.groupby('group').mean()"
   ],
   "metadata": {
    "collapsed": false,
    "pycharm": {
     "name": "#%%\n"
    }
   }
  },
  {
   "cell_type": "code",
   "execution_count": 13,
   "outputs": [
    {
     "data": {
      "text/plain": "{'salary': {'x': 21.75, 'y': 48.0, 'z': 22.4},\n 'age': {'x': 22.75, 'y': 15.0, 'z': 38.0}}"
     },
     "execution_count": 13,
     "metadata": {},
     "output_type": "execute_result"
    }
   ],
   "source": [
    "data.groupby('group').mean().to_dict()"
   ],
   "metadata": {
    "collapsed": false,
    "pycharm": {
     "name": "#%%\n"
    }
   }
  },
  {
   "cell_type": "code",
   "execution_count": 15,
   "outputs": [
    {
     "data": {
      "text/plain": "   salary    age\n0   21.75  22.75\n1   21.75  22.75\n2   22.40  38.00\n3   22.40  38.00\n4   22.40  38.00\n5   22.40  38.00\n6   22.40  38.00\n7   21.75  22.75\n8   21.75  22.75\n9   48.00  15.00",
      "text/html": "<div>\n<style scoped>\n    .dataframe tbody tr th:only-of-type {\n        vertical-align: middle;\n    }\n\n    .dataframe tbody tr th {\n        vertical-align: top;\n    }\n\n    .dataframe thead th {\n        text-align: right;\n    }\n</style>\n<table border=\"1\" class=\"dataframe\">\n  <thead>\n    <tr style=\"text-align: right;\">\n      <th></th>\n      <th>salary</th>\n      <th>age</th>\n    </tr>\n  </thead>\n  <tbody>\n    <tr>\n      <th>0</th>\n      <td>21.75</td>\n      <td>22.75</td>\n    </tr>\n    <tr>\n      <th>1</th>\n      <td>21.75</td>\n      <td>22.75</td>\n    </tr>\n    <tr>\n      <th>2</th>\n      <td>22.40</td>\n      <td>38.00</td>\n    </tr>\n    <tr>\n      <th>3</th>\n      <td>22.40</td>\n      <td>38.00</td>\n    </tr>\n    <tr>\n      <th>4</th>\n      <td>22.40</td>\n      <td>38.00</td>\n    </tr>\n    <tr>\n      <th>5</th>\n      <td>22.40</td>\n      <td>38.00</td>\n    </tr>\n    <tr>\n      <th>6</th>\n      <td>22.40</td>\n      <td>38.00</td>\n    </tr>\n    <tr>\n      <th>7</th>\n      <td>21.75</td>\n      <td>22.75</td>\n    </tr>\n    <tr>\n      <th>8</th>\n      <td>21.75</td>\n      <td>22.75</td>\n    </tr>\n    <tr>\n      <th>9</th>\n      <td>48.00</td>\n      <td>15.00</td>\n    </tr>\n  </tbody>\n</table>\n</div>"
     },
     "execution_count": 15,
     "metadata": {},
     "output_type": "execute_result"
    }
   ],
   "source": [
    "# 是在原来的数据位置更新结果，跟上面的有很大不同\n",
    "data.groupby('group').transform('mean')"
   ],
   "metadata": {
    "collapsed": false,
    "pycharm": {
     "name": "#%%\n"
    }
   }
  },
  {
   "cell_type": "code",
   "execution_count": 25,
   "outputs": [
    {
     "data": {
      "text/plain": "group    x    y    z  All\nage                      \n15     NaN  1.0  NaN    1\n16     2.0  NaN  NaN    2\n22     1.0  NaN  NaN    1\n24     NaN  NaN  1.0    1\n36     NaN  NaN  1.0    1\n37     1.0  NaN  NaN    1\n41     NaN  NaN  1.0    1\n43     NaN  NaN  1.0    1\n46     NaN  NaN  1.0    1\nAll    4.0  1.0  5.0   10",
      "text/html": "<div>\n<style scoped>\n    .dataframe tbody tr th:only-of-type {\n        vertical-align: middle;\n    }\n\n    .dataframe tbody tr th {\n        vertical-align: top;\n    }\n\n    .dataframe thead th {\n        text-align: right;\n    }\n</style>\n<table border=\"1\" class=\"dataframe\">\n  <thead>\n    <tr style=\"text-align: right;\">\n      <th>group</th>\n      <th>x</th>\n      <th>y</th>\n      <th>z</th>\n      <th>All</th>\n    </tr>\n    <tr>\n      <th>age</th>\n      <th></th>\n      <th></th>\n      <th></th>\n      <th></th>\n    </tr>\n  </thead>\n  <tbody>\n    <tr>\n      <th>15</th>\n      <td>NaN</td>\n      <td>1.0</td>\n      <td>NaN</td>\n      <td>1</td>\n    </tr>\n    <tr>\n      <th>16</th>\n      <td>2.0</td>\n      <td>NaN</td>\n      <td>NaN</td>\n      <td>2</td>\n    </tr>\n    <tr>\n      <th>22</th>\n      <td>1.0</td>\n      <td>NaN</td>\n      <td>NaN</td>\n      <td>1</td>\n    </tr>\n    <tr>\n      <th>24</th>\n      <td>NaN</td>\n      <td>NaN</td>\n      <td>1.0</td>\n      <td>1</td>\n    </tr>\n    <tr>\n      <th>36</th>\n      <td>NaN</td>\n      <td>NaN</td>\n      <td>1.0</td>\n      <td>1</td>\n    </tr>\n    <tr>\n      <th>37</th>\n      <td>1.0</td>\n      <td>NaN</td>\n      <td>NaN</td>\n      <td>1</td>\n    </tr>\n    <tr>\n      <th>41</th>\n      <td>NaN</td>\n      <td>NaN</td>\n      <td>1.0</td>\n      <td>1</td>\n    </tr>\n    <tr>\n      <th>43</th>\n      <td>NaN</td>\n      <td>NaN</td>\n      <td>1.0</td>\n      <td>1</td>\n    </tr>\n    <tr>\n      <th>46</th>\n      <td>NaN</td>\n      <td>NaN</td>\n      <td>1.0</td>\n      <td>1</td>\n    </tr>\n    <tr>\n      <th>All</th>\n      <td>4.0</td>\n      <td>1.0</td>\n      <td>5.0</td>\n      <td>10</td>\n    </tr>\n  </tbody>\n</table>\n</div>"
     },
     "execution_count": 25,
     "metadata": {},
     "output_type": "execute_result"
    }
   ],
   "source": [
    "# 数据透视表\n",
    "pd.pivot_table(data, values='salary', columns='group',\n",
    "               index='age', aggfunc=np.count_nonzero, margins=True\n",
    "               )"
   ],
   "metadata": {
    "collapsed": false,
    "pycharm": {
     "name": "#%%\n"
    }
   }
  },
  {
   "cell_type": "code",
   "execution_count": 26,
   "outputs": [
    {
     "data": {
      "text/plain": "group  age    x    y    z  All\n0       15  NaN  1.0  NaN    1\n1       16  2.0  NaN  NaN    2\n2       22  1.0  NaN  NaN    1\n3       24  NaN  NaN  1.0    1\n4       36  NaN  NaN  1.0    1\n5       37  1.0  NaN  NaN    1\n6       41  NaN  NaN  1.0    1\n7       43  NaN  NaN  1.0    1\n8       46  NaN  NaN  1.0    1\n9      All  4.0  1.0  5.0   10",
      "text/html": "<div>\n<style scoped>\n    .dataframe tbody tr th:only-of-type {\n        vertical-align: middle;\n    }\n\n    .dataframe tbody tr th {\n        vertical-align: top;\n    }\n\n    .dataframe thead th {\n        text-align: right;\n    }\n</style>\n<table border=\"1\" class=\"dataframe\">\n  <thead>\n    <tr style=\"text-align: right;\">\n      <th>group</th>\n      <th>age</th>\n      <th>x</th>\n      <th>y</th>\n      <th>z</th>\n      <th>All</th>\n    </tr>\n  </thead>\n  <tbody>\n    <tr>\n      <th>0</th>\n      <td>15</td>\n      <td>NaN</td>\n      <td>1.0</td>\n      <td>NaN</td>\n      <td>1</td>\n    </tr>\n    <tr>\n      <th>1</th>\n      <td>16</td>\n      <td>2.0</td>\n      <td>NaN</td>\n      <td>NaN</td>\n      <td>2</td>\n    </tr>\n    <tr>\n      <th>2</th>\n      <td>22</td>\n      <td>1.0</td>\n      <td>NaN</td>\n      <td>NaN</td>\n      <td>1</td>\n    </tr>\n    <tr>\n      <th>3</th>\n      <td>24</td>\n      <td>NaN</td>\n      <td>NaN</td>\n      <td>1.0</td>\n      <td>1</td>\n    </tr>\n    <tr>\n      <th>4</th>\n      <td>36</td>\n      <td>NaN</td>\n      <td>NaN</td>\n      <td>1.0</td>\n      <td>1</td>\n    </tr>\n    <tr>\n      <th>5</th>\n      <td>37</td>\n      <td>1.0</td>\n      <td>NaN</td>\n      <td>NaN</td>\n      <td>1</td>\n    </tr>\n    <tr>\n      <th>6</th>\n      <td>41</td>\n      <td>NaN</td>\n      <td>NaN</td>\n      <td>1.0</td>\n      <td>1</td>\n    </tr>\n    <tr>\n      <th>7</th>\n      <td>43</td>\n      <td>NaN</td>\n      <td>NaN</td>\n      <td>1.0</td>\n      <td>1</td>\n    </tr>\n    <tr>\n      <th>8</th>\n      <td>46</td>\n      <td>NaN</td>\n      <td>NaN</td>\n      <td>1.0</td>\n      <td>1</td>\n    </tr>\n    <tr>\n      <th>9</th>\n      <td>All</td>\n      <td>4.0</td>\n      <td>1.0</td>\n      <td>5.0</td>\n      <td>10</td>\n    </tr>\n  </tbody>\n</table>\n</div>"
     },
     "execution_count": 26,
     "metadata": {},
     "output_type": "execute_result"
    }
   ],
   "source": [
    "pd.pivot_table(data, values='salary', columns='group',\n",
    "               index='age', aggfunc=np.count_nonzero, margins=True\n",
    "               ).reset_index()"
   ],
   "metadata": {
    "collapsed": false,
    "pycharm": {
     "name": "#%%\n"
    }
   }
  },
  {
   "cell_type": "code",
   "execution_count": null,
   "outputs": [],
   "source": [],
   "metadata": {
    "collapsed": false,
    "pycharm": {
     "name": "#%%\n"
    }
   }
  }
 ],
 "metadata": {
  "kernelspec": {
   "name": "python36_kernel",
   "language": "python",
   "display_name": "python36_Kernel"
  },
  "language_info": {
   "codemirror_mode": {
    "name": "ipython",
    "version": 2
   },
   "file_extension": ".py",
   "mimetype": "text/x-python",
   "name": "python",
   "nbconvert_exporter": "python",
   "pygments_lexer": "ipython2",
   "version": "2.7.6"
  }
 },
 "nbformat": 4,
 "nbformat_minor": 0
}